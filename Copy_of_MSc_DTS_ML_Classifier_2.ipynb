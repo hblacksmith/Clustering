{
  "nbformat": 4,
  "nbformat_minor": 0,
  "metadata": {
    "colab": {
      "name": "Copy of MSc_DTS_ML_Classifier_2",
      "provenance": [],
      "collapsed_sections": [],
      "authorship_tag": "ABX9TyOgaI6+veOVXYwtPBkPWFK6",
      "include_colab_link": true
    },
    "kernelspec": {
      "name": "python3",
      "display_name": "Python 3"
    },
    "language_info": {
      "name": "python"
    }
  },
  "cells": [
    {
      "cell_type": "markdown",
      "metadata": {
        "id": "view-in-github",
        "colab_type": "text"
      },
      "source": [
        "<a href=\"https://colab.research.google.com/github/hblacksmith/Clustering/blob/main/Copy_of_MSc_DTS_ML_Classifier_2.ipynb\" target=\"_parent\"><img src=\"https://colab.research.google.com/assets/colab-badge.svg\" alt=\"Open In Colab\"/></a>"
      ]
    },
    {
      "cell_type": "markdown",
      "source": [
        "## Importing the libraries"
      ],
      "metadata": {
        "id": "IE1TzeZK1Yvw"
      }
    },
    {
      "cell_type": "code",
      "execution_count": 32,
      "metadata": {
        "id": "HJNzW5rxjm3s"
      },
      "outputs": [],
      "source": [
        "#Import Libraries\n",
        "import numpy as np\n",
        "import matplotlib.pyplot as plt\n",
        "import pandas as pd"
      ]
    },
    {
      "cell_type": "markdown",
      "source": [
        "#Importing the dataset"
      ],
      "metadata": {
        "id": "mG9I1ID11bIv"
      }
    },
    {
      "cell_type": "code",
      "source": [
        "# Import dataset\n",
        "dataset = pd.read_csv('AppData.csv', encoding='ISO-8859–1')"
      ],
      "metadata": {
        "id": "7LFsEzEhkBYW"
      },
      "execution_count": 33,
      "outputs": []
    },
    {
      "cell_type": "markdown",
      "source": [
        "##Cleaning the Texts"
      ],
      "metadata": {
        "id": "xjFMl_DE1qAF"
      }
    },
    {
      "cell_type": "code",
      "source": [
        "import re\n",
        "import nltk\n",
        "nltk.download('stopwords')\n",
        "from nltk.corpus import stopwords\n",
        "from nltk.stem.porter import PorterStemmer\n",
        "corpus = []\n",
        "for i in range(0, 24):\n",
        "  review = re.sub('[^a-zA-Z]', ' ', dataset['text'][i])\n",
        "  review = review.lower()\n",
        "  review = review.split()\n",
        "  ps = PorterStemmer()\n",
        "  all_stopwords = stopwords.words('english')\n",
        "  all_stopwords.remove('not')\n",
        "  review = [ps.stem(word) for word in review if not word in set(all_stopwords)]\n",
        "  review = ' '.join(review)\n",
        "  corpus.append(review)"
      ],
      "metadata": {
        "colab": {
          "base_uri": "https://localhost:8080/"
        },
        "id": "l1kuxp2v1sqs",
        "outputId": "08a02eb2-3809-472c-e164-f707bc34031e"
      },
      "execution_count": 34,
      "outputs": [
        {
          "output_type": "stream",
          "name": "stdout",
          "text": [
            "[nltk_data] Downloading package stopwords to /root/nltk_data...\n",
            "[nltk_data]   Package stopwords is already up-to-date!\n"
          ]
        }
      ]
    },
    {
      "cell_type": "code",
      "source": [
        "print(corpus)"
      ],
      "metadata": {
        "colab": {
          "base_uri": "https://localhost:8080/"
        },
        "id": "N3pTQIaQ12J8",
        "outputId": "6165494a-3c03-457d-c961-f551e84c0583"
      },
      "execution_count": 35,
      "outputs": [
        {
          "output_type": "stream",
          "name": "stdout",
          "text": [
            "['raf cadet journey demonstr leadership took charg cadet activ collect money chariti supermarket help pack bag outset ensur cadet knew repres raf need full correct uniform look proud explain format day includ time made sure cadet awar behaviour need display made clear bad languag behaviour would toler saturday morn met cadet supermarket ask older cadet work newer cadet creat support buddi team morn quiet lunch time approach got busi call cadet short break explain idea chang lunch break slightli later us could collect money busi period group discuss idea agre take later break instruct anyon need take lunch could peopl might differ need diabet need eat throughout day regularli check team spoke cadet home time thank made sure everyon ok happi day went day success collect', 'work role half year lot experi knowledg role trust manag lead team throughout day alloc task new member join team train use equip carri differ job furthermor key holder one show new manag lock build teach lock everi fire exit minut job show reliabl trustworthi figur', 'drive team great confid help mind make team profici product posit attitud believ posit neg come find opportun go ahead hard work honesti achiev target brave work job right time right decis team leader supervis work work veloc make work progress chart indic work done time ensur encourag team finish schedul work job time maintain top qualiti', 'although not leadership posit abl involv decis focu use desir present best data drive depart forward get best qualiti hr payrol record possibl tri use experi input idea make process easier team creat report find gap inconsist exist data time manner also tri model behaviour would want other polit help resourc', 'work stanst airport special assist oper often work nineti unsoci plu hour per week overwhelm holiday felt respons servic provid compani whose uniform wore take pride work high mark univers time dedic volunt also indic passion thing get involv work custom end deliv servic abl listen alloc fellow pusher e push wheelchair stakehold throughout airport break passeng flow alway endeavour engag co worker tri find go help way give advic fellow student boat look job appli degre whenev new agent start alway took initi show rope explain terminolog use effici commun shortcut avail staff open door whilst push wheelchair time gener cope fastpac environ moreov issu discrimin unaccept languag not toler thank not aris howev wit thing onlin environ contact relev administr', 'work data qualiti team undertook respons train new staff make understood procedur work style mentor team made plan action introduct topic work effect organis gather inform home offic tool manag intern extern stakehold whist work big network crash work lost due backup save could abl resolv back work use check team member work end shift use make amend need made extra local folder save work help manag creat lesson learn chart work creat best practic chart home offic tool help new joiner exist staff mitig mistak like guid tool staff approv manag conduct team meet explain tool best practic home offic staff help fellow colleagu sat cost submiss welcom queri team help depart run minimum staff tool run minimum error hard work enthusiasm award reward recognit', 'exampl follow coronaviru outbreak central govern impos certain measur upon employ employe discharg oblig despit difficult team conduct weekli team meet build spoke team member use element smart acronym action plan specif measur achiev relev time specif want team continu weekli team meet measur want everi team member attend team meet achiev want team start use technolog achiev relev want team continu share knowledg help job best abil time look rais line manag end year apprais end march import implement chang consid equal everi team member receiv equal opportun one discrimin divers inclus promot resist first among team member though took upon persuad team see benefit access work email not miss vital inform job best abil lastli effect commun manag mental health anxieti took opportun end year apprais propos idea line manag', 'strong commit confid leader understand import within role direct influenc other achiev nation object within civil servic previou role requir manag direct group within team peopl achiev challeng goal target recur basi initi join team concern lack motiv team member display start set concis team valu construct action plan well discuss perform group member design reach goal get team need although team member initi display reluct work toward chang implement persev influenc team believ chosen cours action right one reach long term goal group maintain compani core mission time ensur team member opportun express concern opinion often ask everyon opinion team could better forward achiev object involv group member action plan process valu view abl consist achiev object prais senior manag within corpor leader within civil servic constantli consist deliv object', 'work offic custom email team complain error found one compani newslett newslett creat period anoth depart within compani purpos gener new busi compani took look newslett shock number error contain within felt respons rais issu depart respons creation newslett could explor way could improv view newslett current format let busi spoke manag depart met immedi defens attitud howev persev outlin benefit strong newslett could bring compani also offer proofread newslett went would enabl suggest differ way could improv newslett use leverag new busi persever tact relationship build skill manag agre work improv newslett six month made contact newslett seen integr part busi respons help improv new product also offer incent discount loyal custom base', 'keen scuba diver qualifi becom ocean diver mean dive other gain qualif one lesson open water lead dive ensur teacher feel ok enough air follow set cours went lead anoth dive peopl club belong dive holiday lanzarot sight set becom dive leader time near futur', 'situat project manag q crimin court statist quarterli statist updat task ensur project stuck previous complet work plan creat initi work plan two colleagu team took leav threaten timescal project action arrang meet leader sister team crimin justic system statist manag get coupl member team help us quarterli updat whilst not impact work commit result q statist updat complet time complet high standard', 'lead project hr autonomi project liais number depart issu encount complic login process voic would creat much confus store may lead queri higher cost depart agre work simplifi done', 'join sport team univers moral low pessimist atmospher amongst group due sever factor one experienc member respons improv team outcom saw necessari alter team expect also chang attitud overal motiv order effect commun expect sat player watch clip previou year outlin posit trait action saw final discuss instanc perform may prevent team achiev previou target identifi video instanc occur prevent futur act give encourag display appreci aspect perform meant recept construct critic provid also made clear could hold account fail meet standard ask respons overwhelmingli posit not inspir greater confid team abil pathway provid regard achiev goal notic time spent player reinforc behaviour led great perform discourag behaviour potenti inhibit perform end year achiev team year', 'part resourc plan analyst experienc one team privileg take charg implement new wfm nice go train nice provid ask suitabl question help implement organis abl train peopl organis look bigger pictur day day use softwar well look differ featur abl get maximum use softwar improv day day benefit new system within week manag take train implement softwar accord need busi perform transit two system workforc manag lead train within organis', 'recent lead chariti event success rais throughout charg account contact compani fix date present idea deleg role process member group lost research final powerpoint day pitch school venu event time devast problem howev persist natur decid stay late school take respons leader accumul lost research creat powerpoint within deadlin work fast effici profession manag get group back track extra work put group show determin regardless tension extern pressur eventu pay everyth went plan rais highest amount borough exampl show leadership capabl alongsid abil work pace whilst commun team member lead group overal success', 'resili commit confid leader fulli comprehend requir within role guid influenc other achiev civil servic nation object goal exampl project manag team fellow artist achiev creat complex challeng project would showcas not understand topic collabor initi truli concern lack direct conflict within team set team valu project timelin action plan base team member strength weak held weekli review design help land team need place whilst issu surround artist authorship aros initi phase project alway made sure member equal say opportun project would play often ask opinion final decis made manag influenc team chosen plan action best interest would achiev goal project object involv team project execut process hold opinion experi highest regard manag achiev goal expect level standard promptli earn us prais teamwork acclaim project whole leader alway achiev goal deliv requir expect level qualiti', 'time sixth form school danc club decid join danc life complet ballet grade includ inter foundat grade due danc knowledg experi ask lead class event teacher unabl attend lead team regularli gave direct guidanc perform taught variou technic routin one year select mentor group coach choreograph routin compet local school area place london youth game entail lead danc group girl match dancer danc abil guid routin increas element difficulti mentor team first place win secur place london youth game took place copper box arena london huge accomplish team school teacher explain grate impress lead girl', 'respons run budget day market campaign organis meet tax market team brief line manag respons creat conting plan liais design make sure standbi layout approv collabor market team ensur understood happi respons day budget announc tax team draft articl howev mix banner social media post seem miscommun market team banner concept wrong colour scheme not match overal brand whist wait articl complianc check decid rectifi problem take lead role arrang meet market team decid make minor adjust banner work contrast design public market team felt better assist proof check articl send design result manag diffus conflict market team proactiv creat stronger relationship budget day public sent time everyon happi end result market team happi need consid receiv posit feedback line manag sinc resolv situat', 'part committe start first bengali societi univers vice presid respons includ creat meet agenda arrang committe meet book venu event manag societi email keep action log committe member event howev start small team constantli help team member input idea across committe role one main prioriti societi establish foundat follow year would vital toward sustain grow societi made sure team member work togeth event regularli promot across social media page set societi order maintain current societi member also recruit new one import task number member societi made massiv impact whether societi would continu consecut year furthermor enough member interest societi vital keep engag event done ensur brought lot energi interact element event game challeng overal would say extrem success build societi abl set strong foundat follow year seen societi sinc doubl member', 'last job sale associ larg compani compani overal sale number previou quarter manag ask sale associ suggest possibl method improv sale gave brief present solut creat involv chang sale train method manag like suggest put charg task forc implement solut led team six develop implement new train method', 'work censu team leader motiv manag censu offic task encourag peopl assign area complet censu onlin questionnair achiev respons rate within four week analys review area alloc rank order difficulti respons rate commun inform team weekli basi use powerpoint present regular team meet also identifi strongest offic persuas team alloc offic area difficult get respons motiv team daili basi maintain effect relationship everi offic ensur perform best abil abl steer team leadership get record break respons rate assign area respons rate assign area end oper set target area manag pleas outcom area offic happi', 'competit rugbi sport taught import teamwork structur partit respons function play rugbi lead posit allow develop propens toward inclus fair thu awar regard import team member divers qualiti central success moreov believ share passion trust support attitud key success effici collect therefor role leader provid team way convey energi common object valu signific occas abl transfer leadership abil attitud semest long simul negoti project due proactiv person took leadership role preliminari meet set deadlin research differ area discuss gener object pursu time deadlin group met accord team propos network organis member would research negoti actor interest group utilis project platform share inform commun team would meet weekli discuss adjust negoti strategi accord new inform gather group extrem involv result success achiev highest mark class', 'work year abl work number store depart meant expos differ way store tackl task upon start new store notic larg amount product end damag left warehous expir recognis issu result shelv fill time shelf fill new box open instead finish one alreadi open loos item often forgotten use initi start method would help prevent product becom damag use crate store product space left shelf place end aisl warehous ask manag get staff fill use crate open new box encourag colleagu explain reason also commun way knew would reson exampl mention annoy box fall creat would prevent happen receiv posit respons manag colleagu happi use new method prevent product damag', 'situat manag work week told lead project request done week urgent task keep everyth right track absenc action hold meet team mate ask view opinion well present list work done assign choic interest result collect contribut team abl lead project effect']\n"
          ]
        }
      ]
    },
    {
      "cell_type": "markdown",
      "source": [
        "##Create Bag of Words Model"
      ],
      "metadata": {
        "id": "-Ncx94sP15a2"
      }
    },
    {
      "cell_type": "code",
      "source": [
        "from sklearn.feature_extraction.text import CountVectorizer\n",
        "cv = CountVectorizer(max_features = 1500)\n",
        "X = cv.fit_transform(corpus).toarray()\n",
        "y = dataset.iloc[:, -1].values"
      ],
      "metadata": {
        "id": "WuGoA8xE14ok"
      },
      "execution_count": 36,
      "outputs": []
    },
    {
      "cell_type": "markdown",
      "source": [
        "#Splitting the dataset into the Training set and Test set"
      ],
      "metadata": {
        "id": "klA9WOcK2Tut"
      }
    },
    {
      "cell_type": "code",
      "source": [
        ""
      ],
      "metadata": {
        "id": "NkW7KPNR25nu"
      },
      "execution_count": 36,
      "outputs": []
    },
    {
      "cell_type": "code",
      "source": [
        "from sklearn.model_selection import train_test_split\n",
        "X_train, X_test, y_train, y_test = train_test_split(X, y, test_size = 0.20, random_state = 0)"
      ],
      "metadata": {
        "id": "Ze8Q0s6Q2S80"
      },
      "execution_count": 37,
      "outputs": []
    },
    {
      "cell_type": "markdown",
      "source": [
        "## Training the Naive Bayes model on the Training set"
      ],
      "metadata": {
        "id": "wcutm56l22rm"
      }
    },
    {
      "cell_type": "code",
      "source": [
        "from sklearn.naive_bayes import GaussianNB\n",
        "classifier = GaussianNB()\n",
        "classifier.fit(X_train, y_train)"
      ],
      "metadata": {
        "colab": {
          "base_uri": "https://localhost:8080/"
        },
        "id": "yHgM2xyM2pHT",
        "outputId": "fc923ff4-6512-4ddd-ce89-62732944dda2"
      },
      "execution_count": 38,
      "outputs": [
        {
          "output_type": "execute_result",
          "data": {
            "text/plain": [
              "GaussianNB()"
            ]
          },
          "metadata": {},
          "execution_count": 38
        }
      ]
    },
    {
      "cell_type": "markdown",
      "source": [
        "## Predicting the Test set Results"
      ],
      "metadata": {
        "id": "rhfIFHSR3cX0"
      }
    },
    {
      "cell_type": "code",
      "source": [
        "y_pred = classifier.predict(X_test)\n",
        "print(np.concatenate((y_pred.reshape(len(y_pred),1), y_test.reshape(len(y_test),1)),1))"
      ],
      "metadata": {
        "colab": {
          "base_uri": "https://localhost:8080/"
        },
        "id": "U1HSf_vj3gdM",
        "outputId": "82a4a23f-76b6-4cd6-c141-ed5c188abb73"
      },
      "execution_count": 39,
      "outputs": [
        {
          "output_type": "stream",
          "name": "stdout",
          "text": [
            "[['REJECT' 'REJECT']\n",
            " ['REJECT' 'REJECT']\n",
            " ['REJECT' 'REJECT']\n",
            " ['REJECT' 'PASS']\n",
            " ['REJECT' 'REJECT']]\n"
          ]
        }
      ]
    },
    {
      "cell_type": "markdown",
      "source": [
        "##Making the Confusion Matrix"
      ],
      "metadata": {
        "id": "A3-Zquf035pH"
      }
    },
    {
      "cell_type": "code",
      "source": [
        "from sklearn.metrics import confusion_matrix, accuracy_score\n",
        "cm = confusion_matrix(y_test, y_pred)\n",
        "print(cm)\n",
        "accuracy_score(y_test, y_pred)"
      ],
      "metadata": {
        "colab": {
          "base_uri": "https://localhost:8080/"
        },
        "id": "1hJMR2-238iy",
        "outputId": "c084925a-0f77-4372-8164-f61731e6b127"
      },
      "execution_count": 40,
      "outputs": [
        {
          "output_type": "stream",
          "name": "stdout",
          "text": [
            "[[0 1]\n",
            " [0 4]]\n"
          ]
        },
        {
          "output_type": "execute_result",
          "data": {
            "text/plain": [
              "0.8"
            ]
          },
          "metadata": {},
          "execution_count": 40
        }
      ]
    },
    {
      "cell_type": "code",
      "source": [
        ""
      ],
      "metadata": {
        "id": "3Mw4UhIk4m6i"
      },
      "execution_count": 40,
      "outputs": []
    }
  ]
}