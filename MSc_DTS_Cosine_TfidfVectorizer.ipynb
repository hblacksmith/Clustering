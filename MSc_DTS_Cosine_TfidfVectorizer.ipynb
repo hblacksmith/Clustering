{
  "nbformat": 4,
  "nbformat_minor": 0,
  "metadata": {
    "colab": {
      "name": " CosSinOfLdStatsTfidfVectorizer.py",
      "provenance": [],
      "authorship_tag": "ABX9TyPjyWRxxfv/Z2h0CtVn2jZV",
      "include_colab_link": true
    },
    "kernelspec": {
      "name": "python3",
      "display_name": "Python 3"
    },
    "language_info": {
      "name": "python"
    }
  },
  "cells": [
    {
      "cell_type": "markdown",
      "metadata": {
        "id": "view-in-github",
        "colab_type": "text"
      },
      "source": [
        "<a href=\"https://colab.research.google.com/github/hblacksmith/Clustering/blob/main/MSc_DTS_Cosine_TfidfVectorizer.ipynb\" target=\"_parent\"><img src=\"https://colab.research.google.com/assets/colab-badge.svg\" alt=\"Open In Colab\"/></a>"
      ]
    },
    {
      "cell_type": "code",
      "source": [
        "# Import Libraries\n",
        "import pandas as pd\n",
        "import numpy as np"
      ],
      "metadata": {
        "id": "o_PUcJcYcxa-"
      },
      "execution_count": 79,
      "outputs": []
    },
    {
      "cell_type": "code",
      "execution_count": 80,
      "metadata": {
        "id": "qM1e4ShMVbhz"
      },
      "outputs": [],
      "source": [
        "# Define the Documents\n",
        "ld1 = \"Leadership. Show pride and passion for public service. Create and engage others in delivering a shared vision. Value difference, diversity and inclusion, ensuring fairness and opportunity for all. Show pride and passion for your work and positive, inclusive engagement with your team. Understand your areas of responsibility and display awareness of the wider impact of your actions. Proactively role model and promote an inclusive workplace, promptly dealing with inappropriate language and behaviours when they arise, including any instances of discrimination or misconduct. Give praise and credit to colleagues and stakeholders where appropriate. Advocated Collaborated commitment coordinated delegation determination directed ethical focused improved modernised motivated negotiated optimised passionate improved piloted pioneered planned prompted propelled purpose revitalised reliable shaped spearheaded supported trained transformed\"\n",
        "\n",
        "data1 = \"When I worked for British Airways, we had a new boarding process software introduced known as AMADEUS JFE which was quite challenging and complicated at the beginning. We all had training on that new software and still many of my colleagues used find it difficult to navigate. I took that training very seriously from the beginning and learnt almost all the aspects as details as possible because I knew embracing new change has no alternative specially when it comes to learning new IT Skill. Based on an internal survey it turned out almost 73% of employees were still finding the software difficult to use. In the meantime, I focused on using the software for both boarding process and at check-in so that I could learn all the functionality quicker than others. This is how I took this opportunity to develop myself ahead of others. In the meantime, Management was looking for colleagues who already managed to learn the software adequately so that they can utilize those colleague's expertise to retrain rest of the colleagues who were still struggling with that software. I volunteer for this opportunity and was assigned for three weeks to retrain part of my colleagues. During that time, I was taken off from my daily routine job role and made SME (Subject Matter Expert) so that I can focus on training my fellow colleagues. I managed to retrain 27 of my colleagues onto that software and developed their skill to an optimal level to achieve the goal.\"\n",
        "data2 = \"I put myself forward for enrolment onto the Siemens Supervisor Development Programme, which consists of modules on coaching, people management, presenting and finance, as I realised my leadership skills could be strengthened. Following this, whilst on a placement with the digital team, I opted to put these skills to use by leading the implementation of Agile methods within a sub-team of 5 graduates and apprentices. Acting as Scrum Master, I scheduled a kick-off event where I explained the concept of Agile working, the different roles, events and outcomes of the sprint cycle to the team. Subsequently, I organised and lead the initial sprint planning session, and set up daily stand-up meetings in which the team would discuss their progress and raise attention to any blockers. In time these stand-up meetings became increasingly autonomous and team led. Where necessary, I would facilitate collaboration with internal and external team members to overcome blockers. The team responded well to the Agile style of leading from the back and achieved a much more transparent, collaborative way of working. The practices I laid out are still used today, which is a personal success for me and provides me with external validation of my ability to lead a project effectively. I welcome future opportunities to develop my skills in leadership and see it as a skill which I will continue develop throughout the entirety of my professional career.\"\n",
        "data3 = \"I am helping organise a puzzle hunt in which I am leading a factchecking team. The hunt has entered the stage where factchecking has become important. I have had to organise the rest of the team into groups in order to make sure that the checks are done effectively, and tackle any questions they have about the system in place. This means we have an efficient and robust system to carry forward for later instances.\"\n",
        "data4 = \"At the start of 2021 I heard news that the local county council was offering a business grant to help small businesses to buy capital equipment to help grow and recover from the impact of Covid-19. I discussed it with my bosses as to what the grant could be used for and researched as to whether our business would qualify. Then, I gathered a list of what information would be required and allocated the tasks to my colleagues, such as contacting a range of suppliers for quotes and gathering information from the accountants such as yearly profit totals. I applied for the grant using this information and the application was successful.\"\n",
        "data5 = \"A key responsibility as store manager was smooth running of all operational aspects of the store. I was expecting a big delivery from the depot in preparation for Easter. having a relatively smaller team of five staff operating during the peak season I knew it would be a busy and proactively planned for the day. I invited the whole team to discuss the tasks ahead of us. My management program came in very handy as I applied team working and leadership strategies including brainstorming. I had discussions where I was open to suggestions allowing everyone to feel part of the decision making process. This approach made my team feel valued and they were happy to lead on respective tasks that I assigned. I put a timetable together and in line with Health & Safety regulations organised break times and reassigned roles such that two staff were operating at delivery and checkouts at any given time. Showing leadership, I paired up with the fifth staff to ensure shop floor was fully stocked efficiently upon stock delivery. As a result, the team managed to run smoothly on the day with no issues reported. The shop floor was fully topped up and the warehouse was well organised. My manager inspected the store and was incredibly happy with the results and profit. I was extremely proud of my team and treated them to doughnuts. Having built this good working relationship with my team, I was able to deliver similar good results going forward.\"\n",
        "documents = [ld1, data1, data2, data3, data4, data5]"
      ]
    },
    {
      "cell_type": "code",
      "source": [
        "# To compute the cosine similarity, you need the word count of the words in each document.\n",
        "from sklearn.feature_extraction.text import TfidfVectorizer"
      ],
      "metadata": {
        "id": "mdD_1vprRf7y"
      },
      "execution_count": 81,
      "outputs": []
    },
    {
      "cell_type": "code",
      "source": [
        "# Create the Document Matrix\n",
        "tfidf_vectorizer = TfidfVectorizer(stop_words='english')\n",
        "tfidf_vectorizer = TfidfVectorizer()\n",
        "sparse_matrix = tfidf_vectorizer.fit_transform(documents)"
      ],
      "metadata": {
        "id": "ncCJ260aRtaQ"
      },
      "execution_count": 82,
      "outputs": []
    },
    {
      "cell_type": "code",
      "source": [
        "#OPTINAL: Convert Sparse Matrix into DataFrame to Pandas DataFrame to see word frequencies\n",
        "doc_term_matrix = sparse_matrix.todense()\n",
        "df = pd.DataFrame(doc_term_matrix, columns=tfidf_vectorizer.get_feature_names_out(), index=['ld1', 'data1', 'data2', 'data3', 'data4', 'data5',])\n",
        "#df"
      ],
      "metadata": {
        "id": "kIKMABL-R_ZX"
      },
      "execution_count": 83,
      "outputs": []
    },
    {
      "cell_type": "code",
      "source": [
        "# Compute Cosine Similarity\n",
        "from sklearn.metrics.pairwise import cosine_similarity\n",
        "print(cosine_similarity(df, df))"
      ],
      "metadata": {
        "colab": {
          "base_uri": "https://localhost:8080/"
        },
        "id": "Vqt6aajRTWg3",
        "outputId": "4ed0dbae-1409-48cc-996c-08eb1a7a494a"
      },
      "execution_count": 84,
      "outputs": [
        {
          "output_type": "stream",
          "name": "stdout",
          "text": [
            "[[1.         0.16733953 0.21016474 0.1086124  0.15456441 0.19558674]\n",
            " [0.16733953 1.         0.31678838 0.20960513 0.31030165 0.3612211 ]\n",
            " [0.21016474 0.31678838 1.         0.27602557 0.33368017 0.43622507]\n",
            " [0.1086124  0.20960513 0.27602557 1.         0.17801016 0.2328842 ]\n",
            " [0.15456441 0.31030165 0.33368017 0.17801016 1.         0.36466149]\n",
            " [0.19558674 0.3612211  0.43622507 0.2328842  0.36466149 1.        ]]\n"
          ]
        }
      ]
    },
    {
      "cell_type": "code",
      "source": [
        "# For word vectors they need a word embedding model\n",
        "import gensim\n",
        "from gensim.matutils import softcossim\n",
        "from gensim import corpora\n",
        "import gensim.downloader as api\n",
        "from gensim.utils import simple_preprocess"
      ],
      "metadata": {
        "id": "zLIXdIXGvkyp"
      },
      "execution_count": 85,
      "outputs": []
    },
    {
      "cell_type": "code",
      "source": [
        "# Download the FastText model\n",
        "fasttext_model1300 = api.load('fasttext-wiki-news-subwords-300')"
      ],
      "metadata": {
        "id": "X8OlOCGWv-0p"
      },
      "execution_count": 86,
      "outputs": []
    },
    {
      "cell_type": "code",
      "source": [
        "# Prepare a dictionary and corpus\n",
        "dictionary = corpora.Dictionary([simple_preprocess(doc) for doc in documents])"
      ],
      "metadata": {
        "id": "DGtOnwN8vlk-"
      },
      "execution_count": 87,
      "outputs": []
    },
    {
      "cell_type": "code",
      "source": [
        "#Prepare the similarity matrix\n",
        "similarity_matrix = fasttext_model1300.similarity_matrix(dictionary, tfidf=None, threshold=0.0, exponent=2.0, nonzero_limit=100)"
      ],
      "metadata": {
        "id": "sQe4BfibvnXN"
      },
      "execution_count": 88,
      "outputs": []
    },
    {
      "cell_type": "code",
      "source": [
        "# Convert the sentences into bag-of-words vectors\n",
        "sent_1 = dictionary.doc2bow(simple_preprocess(ld1))    \n",
        "sent_2 = dictionary.doc2bow(simple_preprocess(data1))  \n",
        "sent_3 = dictionary.doc2bow(simple_preprocess(data2))  \n",
        "sent_4 = dictionary.doc2bow(simple_preprocess(data3))  \n",
        "sent_5 = dictionary.doc2bow(simple_preprocess(data4))  \n",
        "sent_6 = dictionary.doc2bow(simple_preprocess(data5))\n",
        "\n",
        "sentences = [sent_1, sent_2, sent_3, sent_4, sent_5, sent_6]"
      ],
      "metadata": {
        "id": "31wdMDvqvpxO"
      },
      "execution_count": 89,
      "outputs": []
    },
    {
      "cell_type": "code",
      "source": [
        "#Compare soft cosine of all documents \n",
        "import numpy as np\n",
        "import pandas as pd\n",
        "\n",
        "def create_soft_cossim_matrix(sentences):\n",
        "    len_array = np.arange(len(sentences))\n",
        "    xx, yy = np.meshgrid(len_array, len_array)\n",
        "    cossim_mat = pd.DataFrame([[round(softcossim(sentences[i],sentences[j], similarity_matrix) ,2) for i, j in zip(x,y)] for y, x in zip(xx, yy)])\n",
        "    return cossim_mat\n",
        "\n",
        "create_soft_cossim_matrix(sentences)"
      ],
      "metadata": {
        "colab": {
          "base_uri": "https://localhost:8080/",
          "height": 237
        },
        "id": "o8X9-dbLvsUs",
        "outputId": "17fde9c3-a401-486c-cb3d-af005af4b77d"
      },
      "execution_count": 90,
      "outputs": [
        {
          "output_type": "execute_result",
          "data": {
            "text/plain": [
              "      0     1     2     3     4     5\n",
              "0  1.00  0.59  0.65  0.52  0.59  0.61\n",
              "1  0.59  1.00  0.85  0.76  0.85  0.84\n",
              "2  0.65  0.85  1.00  0.77  0.83  0.87\n",
              "3  0.52  0.76  0.77  1.00  0.72  0.75\n",
              "4  0.59  0.85  0.83  0.72  1.00  0.81\n",
              "5  0.61  0.84  0.87  0.75  0.81  1.00"
            ],
            "text/html": [
              "\n",
              "  <div id=\"df-8aa8573c-c9f1-44db-a774-c8ff449c2552\">\n",
              "    <div class=\"colab-df-container\">\n",
              "      <div>\n",
              "<style scoped>\n",
              "    .dataframe tbody tr th:only-of-type {\n",
              "        vertical-align: middle;\n",
              "    }\n",
              "\n",
              "    .dataframe tbody tr th {\n",
              "        vertical-align: top;\n",
              "    }\n",
              "\n",
              "    .dataframe thead th {\n",
              "        text-align: right;\n",
              "    }\n",
              "</style>\n",
              "<table border=\"1\" class=\"dataframe\">\n",
              "  <thead>\n",
              "    <tr style=\"text-align: right;\">\n",
              "      <th></th>\n",
              "      <th>0</th>\n",
              "      <th>1</th>\n",
              "      <th>2</th>\n",
              "      <th>3</th>\n",
              "      <th>4</th>\n",
              "      <th>5</th>\n",
              "    </tr>\n",
              "  </thead>\n",
              "  <tbody>\n",
              "    <tr>\n",
              "      <th>0</th>\n",
              "      <td>1.00</td>\n",
              "      <td>0.59</td>\n",
              "      <td>0.65</td>\n",
              "      <td>0.52</td>\n",
              "      <td>0.59</td>\n",
              "      <td>0.61</td>\n",
              "    </tr>\n",
              "    <tr>\n",
              "      <th>1</th>\n",
              "      <td>0.59</td>\n",
              "      <td>1.00</td>\n",
              "      <td>0.85</td>\n",
              "      <td>0.76</td>\n",
              "      <td>0.85</td>\n",
              "      <td>0.84</td>\n",
              "    </tr>\n",
              "    <tr>\n",
              "      <th>2</th>\n",
              "      <td>0.65</td>\n",
              "      <td>0.85</td>\n",
              "      <td>1.00</td>\n",
              "      <td>0.77</td>\n",
              "      <td>0.83</td>\n",
              "      <td>0.87</td>\n",
              "    </tr>\n",
              "    <tr>\n",
              "      <th>3</th>\n",
              "      <td>0.52</td>\n",
              "      <td>0.76</td>\n",
              "      <td>0.77</td>\n",
              "      <td>1.00</td>\n",
              "      <td>0.72</td>\n",
              "      <td>0.75</td>\n",
              "    </tr>\n",
              "    <tr>\n",
              "      <th>4</th>\n",
              "      <td>0.59</td>\n",
              "      <td>0.85</td>\n",
              "      <td>0.83</td>\n",
              "      <td>0.72</td>\n",
              "      <td>1.00</td>\n",
              "      <td>0.81</td>\n",
              "    </tr>\n",
              "    <tr>\n",
              "      <th>5</th>\n",
              "      <td>0.61</td>\n",
              "      <td>0.84</td>\n",
              "      <td>0.87</td>\n",
              "      <td>0.75</td>\n",
              "      <td>0.81</td>\n",
              "      <td>1.00</td>\n",
              "    </tr>\n",
              "  </tbody>\n",
              "</table>\n",
              "</div>\n",
              "      <button class=\"colab-df-convert\" onclick=\"convertToInteractive('df-8aa8573c-c9f1-44db-a774-c8ff449c2552')\"\n",
              "              title=\"Convert this dataframe to an interactive table.\"\n",
              "              style=\"display:none;\">\n",
              "        \n",
              "  <svg xmlns=\"http://www.w3.org/2000/svg\" height=\"24px\"viewBox=\"0 0 24 24\"\n",
              "       width=\"24px\">\n",
              "    <path d=\"M0 0h24v24H0V0z\" fill=\"none\"/>\n",
              "    <path d=\"M18.56 5.44l.94 2.06.94-2.06 2.06-.94-2.06-.94-.94-2.06-.94 2.06-2.06.94zm-11 1L8.5 8.5l.94-2.06 2.06-.94-2.06-.94L8.5 2.5l-.94 2.06-2.06.94zm10 10l.94 2.06.94-2.06 2.06-.94-2.06-.94-.94-2.06-.94 2.06-2.06.94z\"/><path d=\"M17.41 7.96l-1.37-1.37c-.4-.4-.92-.59-1.43-.59-.52 0-1.04.2-1.43.59L10.3 9.45l-7.72 7.72c-.78.78-.78 2.05 0 2.83L4 21.41c.39.39.9.59 1.41.59.51 0 1.02-.2 1.41-.59l7.78-7.78 2.81-2.81c.8-.78.8-2.07 0-2.86zM5.41 20L4 18.59l7.72-7.72 1.47 1.35L5.41 20z\"/>\n",
              "  </svg>\n",
              "      </button>\n",
              "      \n",
              "  <style>\n",
              "    .colab-df-container {\n",
              "      display:flex;\n",
              "      flex-wrap:wrap;\n",
              "      gap: 12px;\n",
              "    }\n",
              "\n",
              "    .colab-df-convert {\n",
              "      background-color: #E8F0FE;\n",
              "      border: none;\n",
              "      border-radius: 50%;\n",
              "      cursor: pointer;\n",
              "      display: none;\n",
              "      fill: #1967D2;\n",
              "      height: 32px;\n",
              "      padding: 0 0 0 0;\n",
              "      width: 32px;\n",
              "    }\n",
              "\n",
              "    .colab-df-convert:hover {\n",
              "      background-color: #E2EBFA;\n",
              "      box-shadow: 0px 1px 2px rgba(60, 64, 67, 0.3), 0px 1px 3px 1px rgba(60, 64, 67, 0.15);\n",
              "      fill: #174EA6;\n",
              "    }\n",
              "\n",
              "    [theme=dark] .colab-df-convert {\n",
              "      background-color: #3B4455;\n",
              "      fill: #D2E3FC;\n",
              "    }\n",
              "\n",
              "    [theme=dark] .colab-df-convert:hover {\n",
              "      background-color: #434B5C;\n",
              "      box-shadow: 0px 1px 3px 1px rgba(0, 0, 0, 0.15);\n",
              "      filter: drop-shadow(0px 1px 2px rgba(0, 0, 0, 0.3));\n",
              "      fill: #FFFFFF;\n",
              "    }\n",
              "  </style>\n",
              "\n",
              "      <script>\n",
              "        const buttonEl =\n",
              "          document.querySelector('#df-8aa8573c-c9f1-44db-a774-c8ff449c2552 button.colab-df-convert');\n",
              "        buttonEl.style.display =\n",
              "          google.colab.kernel.accessAllowed ? 'block' : 'none';\n",
              "\n",
              "        async function convertToInteractive(key) {\n",
              "          const element = document.querySelector('#df-8aa8573c-c9f1-44db-a774-c8ff449c2552');\n",
              "          const dataTable =\n",
              "            await google.colab.kernel.invokeFunction('convertToInteractive',\n",
              "                                                     [key], {});\n",
              "          if (!dataTable) return;\n",
              "\n",
              "          const docLinkHtml = 'Like what you see? Visit the ' +\n",
              "            '<a target=\"_blank\" href=https://colab.research.google.com/notebooks/data_table.ipynb>data table notebook</a>'\n",
              "            + ' to learn more about interactive tables.';\n",
              "          element.innerHTML = '';\n",
              "          dataTable['output_type'] = 'display_data';\n",
              "          await google.colab.output.renderOutput(dataTable, element);\n",
              "          const docLink = document.createElement('div');\n",
              "          docLink.innerHTML = docLinkHtml;\n",
              "          element.appendChild(docLink);\n",
              "        }\n",
              "      </script>\n",
              "    </div>\n",
              "  </div>\n",
              "  "
            ]
          },
          "metadata": {},
          "execution_count": 90
        }
      ]
    }
  ]
}