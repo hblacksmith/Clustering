{
  "nbformat": 4,
  "nbformat_minor": 0,
  "metadata": {
    "colab": {
      "name": " CosSinOfLdStatsTfidfVectorizer.py",
      "provenance": [],
      "authorship_tag": "ABX9TyPZCVKqUH8+0w7j/XuewcXV",
      "include_colab_link": true
    },
    "kernelspec": {
      "name": "python3",
      "display_name": "Python 3"
    },
    "language_info": {
      "name": "python"
    }
  },
  "cells": [
    {
      "cell_type": "markdown",
      "metadata": {
        "id": "view-in-github",
        "colab_type": "text"
      },
      "source": [
        "<a href=\"https://colab.research.google.com/github/hblacksmith/Clustering/blob/main/MSc_DTS_Cosine_TfidfVectorizer.ipynb\" target=\"_parent\"><img src=\"https://colab.research.google.com/assets/colab-badge.svg\" alt=\"Open In Colab\"/></a>"
      ]
    },
    {
      "cell_type": "code",
      "source": [
        "# Import Libraries\n",
        "import pandas as pd\n",
        "import numpy as np"
      ],
      "metadata": {
        "id": "o_PUcJcYcxa-"
      },
      "execution_count": 72,
      "outputs": []
    },
    {
      "cell_type": "code",
      "execution_count": 73,
      "metadata": {
        "id": "qM1e4ShMVbhz"
      },
      "outputs": [],
      "source": [
        "# Define the Documents\n",
        "ld1 = \"Leadership. Show pride and passion for public service. Create and engage others in delivering a shared vision. Value difference, diversity and inclusion, ensuring fairness and opportunity for all. Show pride and passion for your work and positive, inclusive engagement with your team. Understand your areas of responsibility and display awareness of the wider impact of your actions. Proactively role model and promote an inclusive workplace, promptly dealing with inappropriate language and behaviours when they arise, including any instances of discrimination or misconduct. Give praise and credit to colleagues and stakeholders where appropriate. Advocated Collaborated commitment coordinated delegation determination directed ethical focused improved modernised motivated negotiated optimised passionate improved piloted pioneered planned prompted propelled purpose revitalised reliable shaped spearheaded supported trained transformed\"\n",
        "\n",
        "data1 = \"Working as a Census 2021 Team Leader, I had to motivate and manage Census Officers, tasked with encouraging people in assigned areas to complete their Census 2021 online questionnaire. I had to achieve a response rate of 92% within four weeks. I analysed and reviewed the areas I was allocated and ranked them in order of difficulties for response rate. I communicated this information to my team on a weekly basis using powerpoint presentations in regular team meetings. I also identified my strongest officers, who are very persuasive in my team and allocated to those officers areas that are very difficult to get a response from. I motivated my team on a daily basis and maintained effective relationship with every officer to ensure that they perform to the best of their ability. I was able to steer my team under my leadership to get a record breaking response rate for my assigned areas. The response rate for my assigned area at the end of the operation was over 95%, which is 3% more than the set target of 92%. My area manager was very pleased with the outcome in my area and my officers  were very happy to \"\n",
        "data2 = \"to competitive rugby. The sport taught me the importance of teamwork and a structured partition of responsibilities and functions. Playing rugby in a leading position allowed me to develop a propensity towards inclusivity and fairness, thus an awareness regarding the importance of team members' diverse qualities and their centrality for success. Moreover, I believe that a shared passion, trust, and a supportive attitude are the keys to a successful and efficient collective. Therefore, the role of a leader is to provide a team with ways to convey their energies into a common objective through such values. A significant occasion in which I was able to transfer these leadership abilities and attitudes was a semester long, simulated negotiation project. Due to my proactive personality, I took on a leadership role. After a preliminary meeting, I set a deadline by which we should have researched different areas and discussed the general objectives to pursue. By the time of the deadline the group met and, in accordance with the team, I proposed a network organisation in which each member would research each negotiating actor's interests. The group then utilised a project platform to share information and communicate. The team would then meet weekly to discuss and adjust the negotiating strategy according to the new information gathered. The group was extremely involved and, as a result, successful, achieving the highest mark in the class.\"\n",
        "data3 = \"I worked for M&S for 5 years, and I was able to work in a number of stores and departments. This meant I was exposed to the different ways each store tackled tasks. Upon starting in a new store, I noticed a large amount of product ended up damaged, or was left in the warehouse to expire. I recognised this issue was a result of how shelves were being filled; Each time a shelf was filled a new box was opened, instead of finishing one that was already open, and loose items were often forgotten about. I used my initiative to start a method that would help prevent products from becoming damaged. I did this by using crates to store products when there was no space left on the shelf, and placed these at the end of each aisle in the warehouse. I asked my manager to get staff to fill using these crates before opening new boxes, and encouraged my colleagues to do the same. I explained my reasoning,  and also communicated this in ways I knew would resonate with them. For example, by mentioning how annoying it is when boxes fall over, and how these creates would prevent this from happening. I received a positive response from my manager by doing this, and my colleagues were happy to use this new method to prevent product damage. \"\n",
        "data4 = \"Situation: Once my manager was off from work for a week and told me to lead the project. There were some requests that had to be done in that week urgently. Task: Had to keep everything on the right track in the absence of him. Action: I hold the meeting with the other team mates and asked for their views and opinions as well. I presented the list of work to be done and assigned them to their choice of interest. Result: With collective contribution of the team, I was able to lead the project effectively.\"\n",
        "data5 = \"I was part of the committee that started the first Bengali Society at my university. As Vice President, my responsibilities included creating meeting agendas and arranging committee meetings, booking venues for all events, managing society emails and keeping actions logs for all committee members and events. However, as we were just starting out as a small team I was constantly helping our team members by inputting my ideas across all the committee roles. One of our main priorities for the society was to establish the foundations for the following years as this would be vital towards sustaining and growing the society. I made sure that all team members worked together so that all of our events were regularly promoted across all the social media pages we had set up for the society, in order to maintain current society members and also recruit new ones. This was an important task as the number of members the society had made a massive impact on whether the society would continue for consecutive years. Furthermore, once we had enough members interested in our society it was vital to keep them engaged during the events. This was done by ensuring we brought a lot of energy and had interactive elements to the events such as games and challenges. Overall, I would say we were extremely successful in the building of the society and were able to set strong foundations for the following year which can be seen as the society has since doubled its members.\"\n",
        "\n",
        "documents = [ld1,data1, data2, data3, data4, data5]"
      ]
    },
    {
      "cell_type": "code",
      "source": [
        "# To compute the cosine similarity, you need the word count of the words in each document.\n",
        "from sklearn.feature_extraction.text import TfidfVectorizer"
      ],
      "metadata": {
        "id": "mdD_1vprRf7y"
      },
      "execution_count": 74,
      "outputs": []
    },
    {
      "cell_type": "code",
      "source": [
        "# Create the Document Matrix\n",
        "tfidf_vectorizer = TfidfVectorizer(stop_words='english')\n",
        "tfidf_vectorizer = TfidfVectorizer()\n",
        "sparse_matrix = tfidf_vectorizer.fit_transform(documents)"
      ],
      "metadata": {
        "id": "ncCJ260aRtaQ"
      },
      "execution_count": 75,
      "outputs": []
    },
    {
      "cell_type": "code",
      "source": [
        "#OPTINAL: Convert Sparse Matrix into DataFrame to Pandas DataFrame to see word frequencies\n",
        "doc_term_matrix = sparse_matrix.todense()\n",
        "df = pd.DataFrame(doc_term_matrix, columns=tfidf_vectorizer.get_feature_names_out(), index=['ld1', 'data1', 'data2', 'data3', 'data4', 'data5',])\n",
        "#df"
      ],
      "metadata": {
        "id": "kIKMABL-R_ZX"
      },
      "execution_count": 76,
      "outputs": []
    },
    {
      "cell_type": "code",
      "source": [
        "# Compute Cosine Similarity\n",
        "from sklearn.metrics.pairwise import cosine_similarity\n",
        "print(cosine_similarity(df, df))"
      ],
      "metadata": {
        "colab": {
          "base_uri": "https://localhost:8080/"
        },
        "id": "Vqt6aajRTWg3",
        "outputId": "19fa6923-a478-4b6c-e424-2829dbd0ecc7"
      },
      "execution_count": 77,
      "outputs": [
        {
          "output_type": "stream",
          "name": "stdout",
          "text": [
            "[[1.         0.15065258 0.22944999 0.15910421 0.16919062 0.1422081 ]\n",
            " [0.15065258 1.         0.34801738 0.33573546 0.35184856 0.24169508]\n",
            " [0.22944999 0.34801738 1.         0.34104342 0.44397301 0.346376  ]\n",
            " [0.15910421 0.33573546 0.34104342 1.         0.30893291 0.27153539]\n",
            " [0.16919062 0.35184856 0.44397301 0.30893291 1.         0.33486881]\n",
            " [0.1422081  0.24169508 0.346376   0.27153539 0.33486881 1.        ]]\n"
          ]
        }
      ]
    },
    {
      "cell_type": "code",
      "source": [
        "# For word vecotrs need a word embedding model\n",
        "import gensim\n",
        "from gensim.matutils import softcossim\n",
        "from gensim import corpora\n",
        "import gensim.downloader as api\n",
        "from gensim.utils import simple_preprocess"
      ],
      "metadata": {
        "id": "zLIXdIXGvkyp"
      },
      "execution_count": 78,
      "outputs": []
    },
    {
      "cell_type": "code",
      "source": [
        "# Download the FastText model\n",
        "fasttext_model1300 = api.load('fasttext-wiki-news-subwords-300')"
      ],
      "metadata": {
        "id": "X8OlOCGWv-0p"
      },
      "execution_count": 79,
      "outputs": []
    },
    {
      "cell_type": "code",
      "source": [
        "# Prepare a dictionary and corpus\n",
        "dictionary = corpora.Dictionary([simple_preprocess(doc) for doc in documents])"
      ],
      "metadata": {
        "id": "DGtOnwN8vlk-"
      },
      "execution_count": 80,
      "outputs": []
    },
    {
      "cell_type": "code",
      "source": [
        "#Prepare the similarity matrix\n",
        "similarity_matrix = fasttext_model1300.similarity_matrix(dictionary, tfidf=None, threshold=0.0, exponent=2.0, nonzero_limit=100)"
      ],
      "metadata": {
        "id": "sQe4BfibvnXN"
      },
      "execution_count": 81,
      "outputs": []
    },
    {
      "cell_type": "code",
      "source": [
        "# Convert the sentences into bag-of-words vectors\n",
        "sent_1 = dictionary.doc2bow(simple_preprocess(ld1))    \n",
        "sent_2 = dictionary.doc2bow(simple_preprocess(data1))  \n",
        "sent_3 = dictionary.doc2bow(simple_preprocess(data2))  \n",
        "sent_4 = dictionary.doc2bow(simple_preprocess(data3))  \n",
        "sent_5 = dictionary.doc2bow(simple_preprocess(data4))  \n",
        "sent_6 = dictionary.doc2bow(simple_preprocess(data5))\n",
        "\n",
        "sentences = [sent_1, sent_2, sent_3, sent_4, sent_5, sent_6]"
      ],
      "metadata": {
        "id": "31wdMDvqvpxO"
      },
      "execution_count": 82,
      "outputs": []
    },
    {
      "cell_type": "code",
      "source": [
        "#Compare soft cosine of all documents \n",
        "import numpy as np\n",
        "import pandas as pd\n",
        "\n",
        "def create_soft_cossim_matrix(sentences):\n",
        "    len_array = np.arange(len(sentences))\n",
        "    xx, yy = np.meshgrid(len_array, len_array)\n",
        "    cossim_mat = pd.DataFrame([[round(softcossim(sentences[i],sentences[j], similarity_matrix) ,2) for i, j in zip(x,y)] for y, x in zip(xx, yy)])\n",
        "    return cossim_mat\n",
        "\n",
        "create_soft_cossim_matrix(sentences)"
      ],
      "metadata": {
        "colab": {
          "base_uri": "https://localhost:8080/",
          "height": 237
        },
        "id": "o8X9-dbLvsUs",
        "outputId": "867e561c-59e5-4bd6-afb2-8bb6a999e2c6"
      },
      "execution_count": 83,
      "outputs": [
        {
          "output_type": "execute_result",
          "data": {
            "text/plain": [
              "      0     1     2     3     4     5\n",
              "0  1.00  0.56  0.66  0.54  0.58  0.58\n",
              "1  0.56  1.00  0.84  0.82  0.84  0.78\n",
              "2  0.66  0.84  1.00  0.83  0.86  0.84\n",
              "3  0.54  0.82  0.83  1.00  0.86  0.82\n",
              "4  0.58  0.84  0.86  0.86  1.00  0.84\n",
              "5  0.58  0.78  0.84  0.82  0.84  1.00"
            ],
            "text/html": [
              "\n",
              "  <div id=\"df-4abcca35-4b87-487f-8dd5-2ee5b283bc10\">\n",
              "    <div class=\"colab-df-container\">\n",
              "      <div>\n",
              "<style scoped>\n",
              "    .dataframe tbody tr th:only-of-type {\n",
              "        vertical-align: middle;\n",
              "    }\n",
              "\n",
              "    .dataframe tbody tr th {\n",
              "        vertical-align: top;\n",
              "    }\n",
              "\n",
              "    .dataframe thead th {\n",
              "        text-align: right;\n",
              "    }\n",
              "</style>\n",
              "<table border=\"1\" class=\"dataframe\">\n",
              "  <thead>\n",
              "    <tr style=\"text-align: right;\">\n",
              "      <th></th>\n",
              "      <th>0</th>\n",
              "      <th>1</th>\n",
              "      <th>2</th>\n",
              "      <th>3</th>\n",
              "      <th>4</th>\n",
              "      <th>5</th>\n",
              "    </tr>\n",
              "  </thead>\n",
              "  <tbody>\n",
              "    <tr>\n",
              "      <th>0</th>\n",
              "      <td>1.00</td>\n",
              "      <td>0.56</td>\n",
              "      <td>0.66</td>\n",
              "      <td>0.54</td>\n",
              "      <td>0.58</td>\n",
              "      <td>0.58</td>\n",
              "    </tr>\n",
              "    <tr>\n",
              "      <th>1</th>\n",
              "      <td>0.56</td>\n",
              "      <td>1.00</td>\n",
              "      <td>0.84</td>\n",
              "      <td>0.82</td>\n",
              "      <td>0.84</td>\n",
              "      <td>0.78</td>\n",
              "    </tr>\n",
              "    <tr>\n",
              "      <th>2</th>\n",
              "      <td>0.66</td>\n",
              "      <td>0.84</td>\n",
              "      <td>1.00</td>\n",
              "      <td>0.83</td>\n",
              "      <td>0.86</td>\n",
              "      <td>0.84</td>\n",
              "    </tr>\n",
              "    <tr>\n",
              "      <th>3</th>\n",
              "      <td>0.54</td>\n",
              "      <td>0.82</td>\n",
              "      <td>0.83</td>\n",
              "      <td>1.00</td>\n",
              "      <td>0.86</td>\n",
              "      <td>0.82</td>\n",
              "    </tr>\n",
              "    <tr>\n",
              "      <th>4</th>\n",
              "      <td>0.58</td>\n",
              "      <td>0.84</td>\n",
              "      <td>0.86</td>\n",
              "      <td>0.86</td>\n",
              "      <td>1.00</td>\n",
              "      <td>0.84</td>\n",
              "    </tr>\n",
              "    <tr>\n",
              "      <th>5</th>\n",
              "      <td>0.58</td>\n",
              "      <td>0.78</td>\n",
              "      <td>0.84</td>\n",
              "      <td>0.82</td>\n",
              "      <td>0.84</td>\n",
              "      <td>1.00</td>\n",
              "    </tr>\n",
              "  </tbody>\n",
              "</table>\n",
              "</div>\n",
              "      <button class=\"colab-df-convert\" onclick=\"convertToInteractive('df-4abcca35-4b87-487f-8dd5-2ee5b283bc10')\"\n",
              "              title=\"Convert this dataframe to an interactive table.\"\n",
              "              style=\"display:none;\">\n",
              "        \n",
              "  <svg xmlns=\"http://www.w3.org/2000/svg\" height=\"24px\"viewBox=\"0 0 24 24\"\n",
              "       width=\"24px\">\n",
              "    <path d=\"M0 0h24v24H0V0z\" fill=\"none\"/>\n",
              "    <path d=\"M18.56 5.44l.94 2.06.94-2.06 2.06-.94-2.06-.94-.94-2.06-.94 2.06-2.06.94zm-11 1L8.5 8.5l.94-2.06 2.06-.94-2.06-.94L8.5 2.5l-.94 2.06-2.06.94zm10 10l.94 2.06.94-2.06 2.06-.94-2.06-.94-.94-2.06-.94 2.06-2.06.94z\"/><path d=\"M17.41 7.96l-1.37-1.37c-.4-.4-.92-.59-1.43-.59-.52 0-1.04.2-1.43.59L10.3 9.45l-7.72 7.72c-.78.78-.78 2.05 0 2.83L4 21.41c.39.39.9.59 1.41.59.51 0 1.02-.2 1.41-.59l7.78-7.78 2.81-2.81c.8-.78.8-2.07 0-2.86zM5.41 20L4 18.59l7.72-7.72 1.47 1.35L5.41 20z\"/>\n",
              "  </svg>\n",
              "      </button>\n",
              "      \n",
              "  <style>\n",
              "    .colab-df-container {\n",
              "      display:flex;\n",
              "      flex-wrap:wrap;\n",
              "      gap: 12px;\n",
              "    }\n",
              "\n",
              "    .colab-df-convert {\n",
              "      background-color: #E8F0FE;\n",
              "      border: none;\n",
              "      border-radius: 50%;\n",
              "      cursor: pointer;\n",
              "      display: none;\n",
              "      fill: #1967D2;\n",
              "      height: 32px;\n",
              "      padding: 0 0 0 0;\n",
              "      width: 32px;\n",
              "    }\n",
              "\n",
              "    .colab-df-convert:hover {\n",
              "      background-color: #E2EBFA;\n",
              "      box-shadow: 0px 1px 2px rgba(60, 64, 67, 0.3), 0px 1px 3px 1px rgba(60, 64, 67, 0.15);\n",
              "      fill: #174EA6;\n",
              "    }\n",
              "\n",
              "    [theme=dark] .colab-df-convert {\n",
              "      background-color: #3B4455;\n",
              "      fill: #D2E3FC;\n",
              "    }\n",
              "\n",
              "    [theme=dark] .colab-df-convert:hover {\n",
              "      background-color: #434B5C;\n",
              "      box-shadow: 0px 1px 3px 1px rgba(0, 0, 0, 0.15);\n",
              "      filter: drop-shadow(0px 1px 2px rgba(0, 0, 0, 0.3));\n",
              "      fill: #FFFFFF;\n",
              "    }\n",
              "  </style>\n",
              "\n",
              "      <script>\n",
              "        const buttonEl =\n",
              "          document.querySelector('#df-4abcca35-4b87-487f-8dd5-2ee5b283bc10 button.colab-df-convert');\n",
              "        buttonEl.style.display =\n",
              "          google.colab.kernel.accessAllowed ? 'block' : 'none';\n",
              "\n",
              "        async function convertToInteractive(key) {\n",
              "          const element = document.querySelector('#df-4abcca35-4b87-487f-8dd5-2ee5b283bc10');\n",
              "          const dataTable =\n",
              "            await google.colab.kernel.invokeFunction('convertToInteractive',\n",
              "                                                     [key], {});\n",
              "          if (!dataTable) return;\n",
              "\n",
              "          const docLinkHtml = 'Like what you see? Visit the ' +\n",
              "            '<a target=\"_blank\" href=https://colab.research.google.com/notebooks/data_table.ipynb>data table notebook</a>'\n",
              "            + ' to learn more about interactive tables.';\n",
              "          element.innerHTML = '';\n",
              "          dataTable['output_type'] = 'display_data';\n",
              "          await google.colab.output.renderOutput(dataTable, element);\n",
              "          const docLink = document.createElement('div');\n",
              "          docLink.innerHTML = docLinkHtml;\n",
              "          element.appendChild(docLink);\n",
              "        }\n",
              "      </script>\n",
              "    </div>\n",
              "  </div>\n",
              "  "
            ]
          },
          "metadata": {},
          "execution_count": 83
        }
      ]
    }
  ]
}