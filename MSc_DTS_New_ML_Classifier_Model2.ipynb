{
  "nbformat": 4,
  "nbformat_minor": 0,
  "metadata": {
    "colab": {
      "name": "MSc_DTS_New_ML_Classifier_Model",
      "provenance": [],
      "collapsed_sections": [],
      "include_colab_link": true
    },
    "kernelspec": {
      "name": "python3",
      "display_name": "Python 3"
    }
  },
  "cells": [
    {
      "cell_type": "markdown",
      "metadata": {
        "id": "view-in-github",
        "colab_type": "text"
      },
      "source": [
        "<a href=\"https://colab.research.google.com/github/hblacksmith/Clustering/blob/main/MSc_DTS_New_ML_Classifier_Model2.ipynb\" target=\"_parent\"><img src=\"https://colab.research.google.com/assets/colab-badge.svg\" alt=\"Open In Colab\"/></a>"
      ]
    },
    {
      "cell_type": "markdown",
      "metadata": {
        "id": "VwK5-9FIB-lu"
      },
      "source": [
        "# Natural Language Processing"
      ]
    },
    {
      "cell_type": "markdown",
      "metadata": {
        "id": "X1kiO9kACE6s"
      },
      "source": [
        "## Importing the libraries"
      ]
    },
    {
      "cell_type": "code",
      "metadata": {
        "id": "7QG7sxmoCIvN"
      },
      "source": [
        "import numpy as np\n",
        "import matplotlib.pyplot as plt\n",
        "import pandas as pd"
      ],
      "execution_count": 938,
      "outputs": []
    },
    {
      "cell_type": "markdown",
      "metadata": {
        "id": "wTfaCIzdCLPA"
      },
      "source": [
        "## Importing the dataset"
      ]
    },
    {
      "cell_type": "code",
      "source": [
        "dataset = pd.read_csv('AppData2.csv', encoding='ISO-8859–1')"
      ],
      "metadata": {
        "id": "9tG_1g7Cq9yk"
      },
      "execution_count": 939,
      "outputs": []
    },
    {
      "cell_type": "markdown",
      "metadata": {
        "id": "Qekztq71CixT"
      },
      "source": [
        "## Cleaning the texts"
      ]
    },
    {
      "cell_type": "code",
      "metadata": {
        "id": "8u_yXh9dCmEE",
        "outputId": "2f57cdbe-836d-4dd4-c133-d3d271c656dc",
        "colab": {
          "base_uri": "https://localhost:8080/"
        }
      },
      "source": [
        "import re\n",
        "import nltk\n",
        "nltk.download('stopwords')\n",
        "from nltk.corpus import stopwords\n",
        "from nltk.stem.porter import PorterStemmer\n",
        "corpus = []\n",
        "for i in range(0, 100):\n",
        "  text = re.sub('[^a-zA-Z]', ' ', dataset['Text'][i])\n",
        "  text = text.lower()\n",
        "  text = text.split()\n",
        "  ps = PorterStemmer()\n",
        "  all_stopwords = stopwords.words('english')\n",
        "  all_stopwords.remove('not')\n",
        "  text = [ps.stem(word) for word in text if not word in set(all_stopwords)]\n",
        "  text = ' '.join(text)\n",
        "  corpus.append(text)"
      ],
      "execution_count": 940,
      "outputs": [
        {
          "output_type": "stream",
          "name": "stdout",
          "text": [
            "[nltk_data] Downloading package stopwords to /root/nltk_data...\n",
            "[nltk_data]   Package stopwords is already up-to-date!\n"
          ]
        }
      ]
    },
    {
      "cell_type": "code",
      "metadata": {
        "id": "KpGWdrzGoAsL"
      },
      "source": [
        "# View all words in corpus\n",
        "#print(corpus)"
      ],
      "execution_count": 941,
      "outputs": []
    },
    {
      "cell_type": "markdown",
      "metadata": {
        "id": "CLqmAkANCp1-"
      },
      "source": [
        "## Creating the Bag of Words model"
      ]
    },
    {
      "cell_type": "code",
      "metadata": {
        "id": "qroF7XcSCvY3"
      },
      "source": [
        "from sklearn.feature_extraction.text import TfidfVectorizer\n",
        "cv = TfidfVectorizer(max_features = 1500)\n",
        "X = cv.fit_transform(corpus).toarray()\n",
        "y = dataset.iloc[:, -1].values"
      ],
      "execution_count": 942,
      "outputs": []
    },
    {
      "cell_type": "markdown",
      "metadata": {
        "id": "DH_VjgPzC2cd"
      },
      "source": [
        "## Splitting the dataset into the Training set and Test set"
      ]
    },
    {
      "cell_type": "code",
      "metadata": {
        "id": "qQXYM5VzDDDI"
      },
      "source": [
        "from sklearn.model_selection import train_test_split\n",
        "X_train, X_test, y_train, y_test = train_test_split(X, y, test_size = 0.4, random_state = 0)"
      ],
      "execution_count": 943,
      "outputs": []
    },
    {
      "cell_type": "markdown",
      "metadata": {
        "id": "VkIq23vEDIPt"
      },
      "source": [
        "## Training the Naive Bayes model on the Training set"
      ]
    },
    {
      "cell_type": "code",
      "metadata": {
        "id": "DS9oiDXXDRdI"
      },
      "source": [
        "#GaussianNB = 0.875 accuracy\n",
        "#from sklearn.naive_bayes import GaussianNB\n",
        "#classifier = GaussianNB()\n",
        "#classifier.fit(X_train, y_train)"
      ],
      "execution_count": 944,
      "outputs": []
    },
    {
      "cell_type": "code",
      "source": [
        "#Multinomial NB = 0.875 accuracy\n",
        "#from sklearn.naive_bayes import MultinomialNB\n",
        "#classifier = MultinomialNB()\n",
        "#classifier.fit(X_train, y_train)"
      ],
      "metadata": {
        "id": "uvKF71tC6euK"
      },
      "execution_count": 945,
      "outputs": []
    },
    {
      "cell_type": "code",
      "source": [
        "#SVC = 0.875 accuracy\n",
        "from sklearn.svm import SVC\n",
        "classifier = SVC()\n",
        "classifier.fit(X_train, y_train)"
      ],
      "metadata": {
        "colab": {
          "base_uri": "https://localhost:8080/"
        },
        "id": "cTfSPtyDvtGt",
        "outputId": "f2eae089-671d-428d-eb30-c60e55440575"
      },
      "execution_count": 946,
      "outputs": [
        {
          "output_type": "execute_result",
          "data": {
            "text/plain": [
              "SVC()"
            ]
          },
          "metadata": {},
          "execution_count": 946
        }
      ]
    },
    {
      "cell_type": "markdown",
      "metadata": {
        "id": "1JaRM7zXDWUy"
      },
      "source": [
        "## Predicting the Test set results"
      ]
    },
    {
      "cell_type": "code",
      "metadata": {
        "id": "Iif0CVhFDaMp",
        "outputId": "3e13ea31-4b91-4662-9519-cf2137d419a3",
        "colab": {
          "base_uri": "https://localhost:8080/"
        }
      },
      "source": [
        "y_pred = classifier.predict(X_test)\n",
        "print(np.concatenate((y_pred.reshape(len(y_pred),1), y_test.reshape(len(y_test),1)),1))"
      ],
      "execution_count": 947,
      "outputs": [
        {
          "output_type": "stream",
          "name": "stdout",
          "text": [
            "[[0 0]\n",
            " [0 0]\n",
            " [0 0]\n",
            " [0 0]\n",
            " [0 0]\n",
            " [0 1]\n",
            " [0 0]\n",
            " [0 0]\n",
            " [0 0]\n",
            " [0 1]\n",
            " [0 0]\n",
            " [0 1]\n",
            " [0 0]\n",
            " [0 0]\n",
            " [0 1]\n",
            " [0 0]\n",
            " [0 0]\n",
            " [0 0]\n",
            " [0 0]\n",
            " [0 0]\n",
            " [0 0]\n",
            " [0 0]\n",
            " [0 0]\n",
            " [0 0]\n",
            " [0 1]\n",
            " [0 0]\n",
            " [0 0]\n",
            " [0 0]\n",
            " [0 0]\n",
            " [0 0]\n",
            " [0 0]\n",
            " [0 0]\n",
            " [0 0]\n",
            " [0 0]\n",
            " [0 0]\n",
            " [0 0]\n",
            " [0 0]\n",
            " [0 0]\n",
            " [0 0]\n",
            " [0 0]]\n"
          ]
        }
      ]
    },
    {
      "cell_type": "markdown",
      "metadata": {
        "id": "xoMltea5Dir1"
      },
      "source": [
        "## Measuring Performance"
      ]
    },
    {
      "cell_type": "code",
      "metadata": {
        "id": "Xj9IU6MxDnvo",
        "outputId": "e53f1bb4-b2dc-44a8-bc71-e9b3cd09944e",
        "colab": {
          "base_uri": "https://localhost:8080/"
        }
      },
      "source": [
        "#Confusion Matrix - Accuracy\n",
        "from sklearn.metrics import confusion_matrix, accuracy_score\n",
        "cm = confusion_matrix(y_test, y_pred)\n",
        "print(cm)\n",
        "accuracy_score(y_test, y_pred)"
      ],
      "execution_count": 948,
      "outputs": [
        {
          "output_type": "stream",
          "name": "stdout",
          "text": [
            "[[35  0]\n",
            " [ 5  0]]\n"
          ]
        },
        {
          "output_type": "execute_result",
          "data": {
            "text/plain": [
              "0.875"
            ]
          },
          "metadata": {},
          "execution_count": 948
        }
      ]
    },
    {
      "cell_type": "code",
      "source": [
        "#What the model got right\n",
        "y_true = np.array([0,0,0,0,0,1,0,0,0,1,0,1,0,0,1,0,0,0,0,0,0,0,0,0,1,0,0,0,0,0])\n",
        "y_pred = np.array([0,0,0,0,0,0,0,0,0,0,0,0,0,0,1,0,0,0,0,0,0,0,0,0,0,0,0,0,1,0])\n",
        "true_positives = ((y_pred == y_true) & (y_pred == 1)).sum()\n",
        "true_positives"
      ],
      "metadata": {
        "colab": {
          "base_uri": "https://localhost:8080/"
        },
        "id": "Rv0K2v7X3knJ",
        "outputId": "7eff1101-52d7-498a-b7c8-f1b2568cd498"
      },
      "execution_count": 949,
      "outputs": [
        {
          "output_type": "execute_result",
          "data": {
            "text/plain": [
              "1"
            ]
          },
          "metadata": {},
          "execution_count": 949
        }
      ]
    },
    {
      "cell_type": "code",
      "source": [
        "true_negatives = ((y_pred == y_true) & (y_pred == 0)).sum()\n",
        "true_negatives"
      ],
      "metadata": {
        "colab": {
          "base_uri": "https://localhost:8080/"
        },
        "id": "Jr8sgsfv3rIe",
        "outputId": "ef6e7043-e549-4545-d676-878787618d2c"
      },
      "execution_count": 950,
      "outputs": [
        {
          "output_type": "execute_result",
          "data": {
            "text/plain": [
              "24"
            ]
          },
          "metadata": {},
          "execution_count": 950
        }
      ]
    },
    {
      "cell_type": "code",
      "source": [
        "#What the model got wrong\n",
        "false_positives = ((y_pred != y_true) & (y_pred == 1)).sum()\n",
        "false_positives"
      ],
      "metadata": {
        "colab": {
          "base_uri": "https://localhost:8080/"
        },
        "id": "SDBB-WpQ3vuE",
        "outputId": "88ad7f27-5a13-4f24-d17e-28cdfef7693d"
      },
      "execution_count": 951,
      "outputs": [
        {
          "output_type": "execute_result",
          "data": {
            "text/plain": [
              "1"
            ]
          },
          "metadata": {},
          "execution_count": 951
        }
      ]
    },
    {
      "cell_type": "code",
      "source": [
        "false_negatives = ((y_pred != y_true) & (y_pred == 0)).sum()\n",
        "false_negatives"
      ],
      "metadata": {
        "colab": {
          "base_uri": "https://localhost:8080/"
        },
        "id": "w1A9dnjh3xbS",
        "outputId": "92417327-13f8-4cf8-b988-45b220f99ccf"
      },
      "execution_count": 952,
      "outputs": [
        {
          "output_type": "execute_result",
          "data": {
            "text/plain": [
              "4"
            ]
          },
          "metadata": {},
          "execution_count": 952
        }
      ]
    },
    {
      "cell_type": "code",
      "source": [
        "#Precision - how many true labels did the model detect (1.0 = NO FALSE POSITIVES)\n",
        "precision = true_positives / (true_positives + false_positives)\n",
        "precision"
      ],
      "metadata": {
        "colab": {
          "base_uri": "https://localhost:8080/"
        },
        "id": "cxtjxSeL30ge",
        "outputId": "08aaa232-6a50-488a-ec54-bab7c35d1fca"
      },
      "execution_count": 953,
      "outputs": [
        {
          "output_type": "execute_result",
          "data": {
            "text/plain": [
              "0.5"
            ]
          },
          "metadata": {},
          "execution_count": 953
        }
      ]
    },
    {
      "cell_type": "code",
      "source": [
        "#Recall - how many positive examples were detected in the dataset\n",
        "recall = true_positives / (true_positives + false_negatives)\n",
        "recall"
      ],
      "metadata": {
        "colab": {
          "base_uri": "https://localhost:8080/"
        },
        "id": "KPpWx-iT32EJ",
        "outputId": "da852282-d3ca-4abd-d2f9-9516a4015276"
      },
      "execution_count": 954,
      "outputs": [
        {
          "output_type": "execute_result",
          "data": {
            "text/plain": [
              "0.2"
            ]
          },
          "metadata": {},
          "execution_count": 954
        }
      ]
    },
    {
      "cell_type": "code",
      "source": [
        "#RMSE - Root Mean Square Error\n",
        "rmse = np.sqrt((y_true - y_pred) ** 2 / len(y_true))\n",
        "rmse"
      ],
      "metadata": {
        "colab": {
          "base_uri": "https://localhost:8080/"
        },
        "id": "roPa56G733wK",
        "outputId": "a262c35b-c5f3-4991-9519-cba1148fbfe1"
      },
      "execution_count": 955,
      "outputs": [
        {
          "output_type": "execute_result",
          "data": {
            "text/plain": [
              "array([0.        , 0.        , 0.        , 0.        , 0.        ,\n",
              "       0.18257419, 0.        , 0.        , 0.        , 0.18257419,\n",
              "       0.        , 0.18257419, 0.        , 0.        , 0.        ,\n",
              "       0.        , 0.        , 0.        , 0.        , 0.        ,\n",
              "       0.        , 0.        , 0.        , 0.        , 0.18257419,\n",
              "       0.        , 0.        , 0.        , 0.18257419, 0.        ])"
            ]
          },
          "metadata": {},
          "execution_count": 955
        }
      ]
    },
    {
      "cell_type": "markdown",
      "metadata": {
        "id": "NZcOJH_x9GSV"
      },
      "source": [
        "## Predicting if a single statement is Pass [1] or Reject [0]"
      ]
    },
    {
      "cell_type": "markdown",
      "metadata": {
        "id": "4CiVD7lB-G4E"
      },
      "source": [
        "### Positive review"
      ]
    },
    {
      "cell_type": "code",
      "metadata": {
        "id": "4-jZEzWD49su",
        "outputId": "bb92a87f-6143-49e1-db71-8d73ffd61199",
        "colab": {
          "base_uri": "https://localhost:8080/"
        }
      },
      "source": [
        "new_statement = \"Being a strong, committed and confident leader, I understand there is a requirement within this role to direct and influence others to achieve the national objectives of the Civil Service. To provide evidence of my ability to lead, in a previous role I was required to manage and direct a team of people to achieve difficult and challenging projects on a recurring basis. When I first joined the team as their leader, I was concerned as to the lack of direction and motivation within the team, and so I started setting concise team values, creating action plans and conducting performance reviews for all members of staff that were designed to get us where we needed to be. Although some team members were initially reluctant to the changes I was implementing, I persevered and influenced them to believe my chosen course of action was the right one for our long-term goals and the organization's core mission. At all times, I ensured team members had the same opportunities in respect of career advancement, and I often asked everyone for their opinion on how the team could move forward and achieve its objectives. By involving my team members in the action plan execution process, and by valuing their views and opinions, we were able to consistently achieve our goals. More often than not, we were praised by senior management for our ability to deliver projects within very tight deadlines. As a leader within the Civil Service, I will consistently deliver on my objectives.\"\n",
        "\n",
        "new_statement = re.sub('[^a-zA-Z]', ' ', new_statement)\n",
        "new_statement = new_statement.lower()\n",
        "new_statement = new_statement.split()\n",
        "ps = PorterStemmer()\n",
        "all_stopwords = stopwords.words('english')\n",
        "all_stopwords.remove('not')\n",
        "new_statement = [ps.stem(word) for word in new_statement if not word in set(all_stopwords)]\n",
        "new_statement = ' '.join(new_statement)\n",
        "new_corpus = [new_statement]\n",
        "new_X_test = cv.transform(new_corpus).toarray()\n",
        "new_y_pred = classifier.predict(new_X_test)\n",
        "print(new_y_pred)"
      ],
      "execution_count": 956,
      "outputs": [
        {
          "output_type": "stream",
          "name": "stdout",
          "text": [
            "[1]\n"
          ]
        }
      ]
    },
    {
      "cell_type": "markdown",
      "metadata": {
        "id": "Rkorcoxm93kP"
      },
      "source": [
        "The review was correctly predicted as positive by our model."
      ]
    },
    {
      "cell_type": "markdown",
      "metadata": {
        "id": "9qztXT-i-K1j"
      },
      "source": [
        "### Negative review"
      ]
    },
    {
      "cell_type": "markdown",
      "metadata": {
        "id": "X1DsvzmVE9EK"
      },
      "source": [
        "**Solution:** We just repeat the same text preprocessing process we did before, but this time with a single review."
      ]
    },
    {
      "cell_type": "code",
      "metadata": {
        "id": "ySAblyR98J2s",
        "outputId": "5fc640ce-4d53-412a-d58b-d787217443fa",
        "colab": {
          "base_uri": "https://localhost:8080/"
        }
      },
      "source": [
        "new_statement = \"Promote diversity, inclusion and equality of opportunity, respecting difference and external experience. Welcome and respond to views and challenges from others, despite any conflicting pressures to ignore or give in to them. Stand by, promote or defend own and team’s actions and decisions where needed. Seek out shared interests beyond own area of responsibility, understanding the extent of the impact actions have on the organisation. Inspire and motivate teams to be fully engaged in their work and dedicated to their role. \"\n",
        "new_statement = re.sub('[^a-zA-Z]', ' ', new_statement)\n",
        "new_statement = new_statement.lower()\n",
        "new_statement = new_statement.split()\n",
        "ps = PorterStemmer()\n",
        "all_stopwords = stopwords.words('english')\n",
        "all_stopwords.remove('not')\n",
        "new_statement = [ps.stem(word) for word in new_statement if not word in set(all_stopwords)]\n",
        "new_statement = ' '.join(new_statement)\n",
        "new_corpus = [new_statement]\n",
        "new_X_test = cv.transform(new_corpus).toarray()\n",
        "new_y_pred = classifier.predict(new_X_test)\n",
        "print(new_y_pred)"
      ],
      "execution_count": 957,
      "outputs": [
        {
          "output_type": "stream",
          "name": "stdout",
          "text": [
            "[0]\n"
          ]
        }
      ]
    },
    {
      "cell_type": "markdown",
      "metadata": {
        "id": "d72teliY-PUQ"
      },
      "source": [
        "The review was correctly predicted as negative by our model."
      ]
    }
  ]
}