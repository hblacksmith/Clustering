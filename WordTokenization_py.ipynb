{
  "nbformat": 4,
  "nbformat_minor": 0,
  "metadata": {
    "colab": {
      "name": "WordTokenization.py",
      "provenance": [],
      "authorship_tag": "ABX9TyOYkixc66O+bUNkjvH0dQ1s",
      "include_colab_link": true
    },
    "kernelspec": {
      "name": "python3",
      "display_name": "Python 3"
    },
    "language_info": {
      "name": "python"
    }
  },
  "cells": [
    {
      "cell_type": "markdown",
      "metadata": {
        "id": "view-in-github",
        "colab_type": "text"
      },
      "source": [
        "<a href=\"https://colab.research.google.com/github/hblacksmith/Clustering/blob/main/WordTokenization_py.ipynb\" target=\"_parent\"><img src=\"https://colab.research.google.com/assets/colab-badge.svg\" alt=\"Open In Colab\"/></a>"
      ]
    },
    {
      "cell_type": "code",
      "execution_count": 56,
      "metadata": {
        "colab": {
          "base_uri": "https://localhost:8080/",
          "height": 206
        },
        "id": "QP9nH2_wcawt",
        "outputId": "aeb6d550-b149-48c0-a306-dc4e45bed0e3"
      },
      "outputs": [
        {
          "output_type": "execute_result",
          "data": {
            "text/plain": [
              "       Thomas  Jefferson  began  building  Monticello  at  the  age  of  26.\n",
              "sent0       1          1      1         1           1   1    1    1   1    1\n",
              "sent1       0          0      0         0           0   0    0    0   0    0\n",
              "sent2       0          0      0         0           0   0    1    0   0    0\n",
              "sent3       0          0      0         0           1   0    0    0   0    0\n",
              "sent4       0          0      0         0           0   0    0    0   0    0"
            ],
            "text/html": [
              "\n",
              "  <div id=\"df-2287dd64-e77a-4ad9-8f95-09ab1b0543a7\">\n",
              "    <div class=\"colab-df-container\">\n",
              "      <div>\n",
              "<style scoped>\n",
              "    .dataframe tbody tr th:only-of-type {\n",
              "        vertical-align: middle;\n",
              "    }\n",
              "\n",
              "    .dataframe tbody tr th {\n",
              "        vertical-align: top;\n",
              "    }\n",
              "\n",
              "    .dataframe thead th {\n",
              "        text-align: right;\n",
              "    }\n",
              "</style>\n",
              "<table border=\"1\" class=\"dataframe\">\n",
              "  <thead>\n",
              "    <tr style=\"text-align: right;\">\n",
              "      <th></th>\n",
              "      <th>Thomas</th>\n",
              "      <th>Jefferson</th>\n",
              "      <th>began</th>\n",
              "      <th>building</th>\n",
              "      <th>Monticello</th>\n",
              "      <th>at</th>\n",
              "      <th>the</th>\n",
              "      <th>age</th>\n",
              "      <th>of</th>\n",
              "      <th>26.</th>\n",
              "    </tr>\n",
              "  </thead>\n",
              "  <tbody>\n",
              "    <tr>\n",
              "      <th>sent0</th>\n",
              "      <td>1</td>\n",
              "      <td>1</td>\n",
              "      <td>1</td>\n",
              "      <td>1</td>\n",
              "      <td>1</td>\n",
              "      <td>1</td>\n",
              "      <td>1</td>\n",
              "      <td>1</td>\n",
              "      <td>1</td>\n",
              "      <td>1</td>\n",
              "    </tr>\n",
              "    <tr>\n",
              "      <th>sent1</th>\n",
              "      <td>0</td>\n",
              "      <td>0</td>\n",
              "      <td>0</td>\n",
              "      <td>0</td>\n",
              "      <td>0</td>\n",
              "      <td>0</td>\n",
              "      <td>0</td>\n",
              "      <td>0</td>\n",
              "      <td>0</td>\n",
              "      <td>0</td>\n",
              "    </tr>\n",
              "    <tr>\n",
              "      <th>sent2</th>\n",
              "      <td>0</td>\n",
              "      <td>0</td>\n",
              "      <td>0</td>\n",
              "      <td>0</td>\n",
              "      <td>0</td>\n",
              "      <td>0</td>\n",
              "      <td>1</td>\n",
              "      <td>0</td>\n",
              "      <td>0</td>\n",
              "      <td>0</td>\n",
              "    </tr>\n",
              "    <tr>\n",
              "      <th>sent3</th>\n",
              "      <td>0</td>\n",
              "      <td>0</td>\n",
              "      <td>0</td>\n",
              "      <td>0</td>\n",
              "      <td>1</td>\n",
              "      <td>0</td>\n",
              "      <td>0</td>\n",
              "      <td>0</td>\n",
              "      <td>0</td>\n",
              "      <td>0</td>\n",
              "    </tr>\n",
              "    <tr>\n",
              "      <th>sent4</th>\n",
              "      <td>0</td>\n",
              "      <td>0</td>\n",
              "      <td>0</td>\n",
              "      <td>0</td>\n",
              "      <td>0</td>\n",
              "      <td>0</td>\n",
              "      <td>0</td>\n",
              "      <td>0</td>\n",
              "      <td>0</td>\n",
              "      <td>0</td>\n",
              "    </tr>\n",
              "  </tbody>\n",
              "</table>\n",
              "</div>\n",
              "      <button class=\"colab-df-convert\" onclick=\"convertToInteractive('df-2287dd64-e77a-4ad9-8f95-09ab1b0543a7')\"\n",
              "              title=\"Convert this dataframe to an interactive table.\"\n",
              "              style=\"display:none;\">\n",
              "        \n",
              "  <svg xmlns=\"http://www.w3.org/2000/svg\" height=\"24px\"viewBox=\"0 0 24 24\"\n",
              "       width=\"24px\">\n",
              "    <path d=\"M0 0h24v24H0V0z\" fill=\"none\"/>\n",
              "    <path d=\"M18.56 5.44l.94 2.06.94-2.06 2.06-.94-2.06-.94-.94-2.06-.94 2.06-2.06.94zm-11 1L8.5 8.5l.94-2.06 2.06-.94-2.06-.94L8.5 2.5l-.94 2.06-2.06.94zm10 10l.94 2.06.94-2.06 2.06-.94-2.06-.94-.94-2.06-.94 2.06-2.06.94z\"/><path d=\"M17.41 7.96l-1.37-1.37c-.4-.4-.92-.59-1.43-.59-.52 0-1.04.2-1.43.59L10.3 9.45l-7.72 7.72c-.78.78-.78 2.05 0 2.83L4 21.41c.39.39.9.59 1.41.59.51 0 1.02-.2 1.41-.59l7.78-7.78 2.81-2.81c.8-.78.8-2.07 0-2.86zM5.41 20L4 18.59l7.72-7.72 1.47 1.35L5.41 20z\"/>\n",
              "  </svg>\n",
              "      </button>\n",
              "      \n",
              "  <style>\n",
              "    .colab-df-container {\n",
              "      display:flex;\n",
              "      flex-wrap:wrap;\n",
              "      gap: 12px;\n",
              "    }\n",
              "\n",
              "    .colab-df-convert {\n",
              "      background-color: #E8F0FE;\n",
              "      border: none;\n",
              "      border-radius: 50%;\n",
              "      cursor: pointer;\n",
              "      display: none;\n",
              "      fill: #1967D2;\n",
              "      height: 32px;\n",
              "      padding: 0 0 0 0;\n",
              "      width: 32px;\n",
              "    }\n",
              "\n",
              "    .colab-df-convert:hover {\n",
              "      background-color: #E2EBFA;\n",
              "      box-shadow: 0px 1px 2px rgba(60, 64, 67, 0.3), 0px 1px 3px 1px rgba(60, 64, 67, 0.15);\n",
              "      fill: #174EA6;\n",
              "    }\n",
              "\n",
              "    [theme=dark] .colab-df-convert {\n",
              "      background-color: #3B4455;\n",
              "      fill: #D2E3FC;\n",
              "    }\n",
              "\n",
              "    [theme=dark] .colab-df-convert:hover {\n",
              "      background-color: #434B5C;\n",
              "      box-shadow: 0px 1px 3px 1px rgba(0, 0, 0, 0.15);\n",
              "      filter: drop-shadow(0px 1px 2px rgba(0, 0, 0, 0.3));\n",
              "      fill: #FFFFFF;\n",
              "    }\n",
              "  </style>\n",
              "\n",
              "      <script>\n",
              "        const buttonEl =\n",
              "          document.querySelector('#df-2287dd64-e77a-4ad9-8f95-09ab1b0543a7 button.colab-df-convert');\n",
              "        buttonEl.style.display =\n",
              "          google.colab.kernel.accessAllowed ? 'block' : 'none';\n",
              "\n",
              "        async function convertToInteractive(key) {\n",
              "          const element = document.querySelector('#df-2287dd64-e77a-4ad9-8f95-09ab1b0543a7');\n",
              "          const dataTable =\n",
              "            await google.colab.kernel.invokeFunction('convertToInteractive',\n",
              "                                                     [key], {});\n",
              "          if (!dataTable) return;\n",
              "\n",
              "          const docLinkHtml = 'Like what you see? Visit the ' +\n",
              "            '<a target=\"_blank\" href=https://colab.research.google.com/notebooks/data_table.ipynb>data table notebook</a>'\n",
              "            + ' to learn more about interactive tables.';\n",
              "          element.innerHTML = '';\n",
              "          dataTable['output_type'] = 'display_data';\n",
              "          await google.colab.output.renderOutput(dataTable, element);\n",
              "          const docLink = document.createElement('div');\n",
              "          docLink.innerHTML = docLinkHtml;\n",
              "          element.appendChild(docLink);\n",
              "        }\n",
              "      </script>\n",
              "    </div>\n",
              "  </div>\n",
              "  "
            ]
          },
          "metadata": {},
          "execution_count": 56
        }
      ],
      "source": [
        "#Construct a DataFrame of bag-of-words vectors\n",
        "import pandas as pd\n",
        "\n",
        "sentences = \"Thomas Jefferson began building Monticello at the age of 26.\\n\"\n",
        "sentences += \"Construction was done mostly by local masons and carpenters.\\n\"\n",
        "sentences += \"He moved into the South Pavillion in 1770.\\n\"\n",
        "sentences += \"Turning Monticello into a neoclassical masterpiece was Jefferson's obsession.\\n\"\n",
        "\n",
        "corpus = {}\n",
        "\n",
        "for i, sent in enumerate(sentences.split('\\n')):\n",
        "  corpus['sent{}'.format(i)] = dict ((tok, 1) for tok in sent.split())\n",
        "\n",
        "df = pd.DataFrame.from_records(corpus).fillna(0).astype(int).T\n",
        "df[df.columns[:10]]\n",
        "#print(df)\n"
      ]
    },
    {
      "cell_type": "code",
      "source": [
        "# Dot Product - measuring bag of words overlap\n",
        "df = df.T\n",
        "df.sent0.dot(df.sent1)\n"
      ],
      "metadata": {
        "colab": {
          "base_uri": "https://localhost:8080/"
        },
        "id": "BIdk67stesAr",
        "outputId": "0003b69e-f2bf-4028-a826-a2fe331a3281"
      },
      "execution_count": 57,
      "outputs": [
        {
          "output_type": "execute_result",
          "data": {
            "text/plain": [
              "0"
            ]
          },
          "metadata": {},
          "execution_count": 57
        }
      ]
    },
    {
      "cell_type": "code",
      "source": [
        "df.sent0.dot(df.sent2)"
      ],
      "metadata": {
        "colab": {
          "base_uri": "https://localhost:8080/"
        },
        "id": "rztoWUphfu3H",
        "outputId": "9ead1848-9eb4-4488-cc4d-59cffcdf7eac"
      },
      "execution_count": 58,
      "outputs": [
        {
          "output_type": "execute_result",
          "data": {
            "text/plain": [
              "1"
            ]
          },
          "metadata": {},
          "execution_count": 58
        }
      ]
    },
    {
      "cell_type": "code",
      "source": [
        "df.sent0.dot(df.sent3)"
      ],
      "metadata": {
        "colab": {
          "base_uri": "https://localhost:8080/"
        },
        "id": "nCy9HpzHf0mR",
        "outputId": "9bdd0e38-76d8-467f-ed6c-d474bf99af97"
      },
      "execution_count": 59,
      "outputs": [
        {
          "output_type": "execute_result",
          "data": {
            "text/plain": [
              "1"
            ]
          },
          "metadata": {},
          "execution_count": 59
        }
      ]
    },
    {
      "cell_type": "code",
      "source": [
        "# Here is a way to find the word that is shared by sent0 and sent3, the word that gave you that last Dot Product of 1\n",
        "[(k, v) for (k ,v) in (df.sent0 & df.sent3).items() if v]"
      ],
      "metadata": {
        "colab": {
          "base_uri": "https://localhost:8080/"
        },
        "id": "I64ZcbHXgEZ5",
        "outputId": "23f582fa-50a3-4816-c7b2-379c44785d2e"
      },
      "execution_count": 60,
      "outputs": [
        {
          "output_type": "execute_result",
          "data": {
            "text/plain": [
              "[('Monticello', 1)]"
            ]
          },
          "metadata": {},
          "execution_count": 60
        }
      ]
    },
    {
      "cell_type": "code",
      "source": [
        "#Tokenize the Monticello sentence with a regular expression\n",
        "import re\n",
        "\n",
        "sentence = \"Thomas Jefferson began building Monticello at the age of 26.\"\n",
        "\n",
        "tokens = re.split(r'[-\\s.,;!?]+', sentence)\n",
        "tokens"
      ],
      "metadata": {
        "colab": {
          "base_uri": "https://localhost:8080/"
        },
        "id": "SBQDExjXiPwx",
        "outputId": "4d1657d8-2877-4422-ffae-5a0ffceaa299"
      },
      "execution_count": 61,
      "outputs": [
        {
          "output_type": "execute_result",
          "data": {
            "text/plain": [
              "['Thomas',\n",
              " 'Jefferson',\n",
              " 'began',\n",
              " 'building',\n",
              " 'Monticello',\n",
              " 'at',\n",
              " 'the',\n",
              " 'age',\n",
              " 'of',\n",
              " '26',\n",
              " '']"
            ]
          },
          "metadata": {},
          "execution_count": 61
        }
      ]
    },
    {
      "cell_type": "code",
      "source": [
        "#Simpler Regular Expression\n",
        "import re\n",
        "\n",
        "sentence = \"Thomas Jefferson began building Monticello at the age of 26.\"\n",
        "\n",
        "pattern = re.compile(r\"([-\\s\\s+.,;!?])+\")\n",
        "tokens = pattern.split(sentence)\n",
        "[x for x in tokens if x and x not in '- \\t\\n.,;!?']"
      ],
      "metadata": {
        "colab": {
          "base_uri": "https://localhost:8080/"
        },
        "id": "RH4eTyAgjMFV",
        "outputId": "1f074c65-33b5-4920-8335-5dbcfcc141af"
      },
      "execution_count": 73,
      "outputs": [
        {
          "output_type": "execute_result",
          "data": {
            "text/plain": [
              "['Thomas',\n",
              " 'Jefferson',\n",
              " 'began',\n",
              " 'building',\n",
              " 'Monticello',\n",
              " 'at',\n",
              " 'the',\n",
              " 'age',\n",
              " 'of',\n",
              " '26']"
            ]
          },
          "metadata": {},
          "execution_count": 73
        }
      ]
    },
    {
      "cell_type": "code",
      "source": [
        "#NLTK RegexpTokenizer\n",
        "from nltk.tokenize import RegexpTokenizer\n",
        "tokenizer = RegexpTokenizer(r'\\w+|$[0-9.]+|\\S+')\n",
        "tokenizer.tokenize(sentence)\n",
        "# this tokenizer is better than the one previous because it ignores whitespace tokens, and separates \n",
        "#sentence-ending \n",
        "#trailing punctuation from tokens that do not contain any other punctuation characters"
      ],
      "metadata": {
        "colab": {
          "base_uri": "https://localhost:8080/"
        },
        "id": "JfoJRiW0krVs",
        "outputId": "4c886094-78de-4bae-d388-a0604afab1cf"
      },
      "execution_count": 63,
      "outputs": [
        {
          "output_type": "execute_result",
          "data": {
            "text/plain": [
              "['Thomas',\n",
              " 'Jefferson',\n",
              " 'began',\n",
              " 'building',\n",
              " 'Monticello',\n",
              " 'at',\n",
              " 'the',\n",
              " 'age',\n",
              " 'of',\n",
              " '26',\n",
              " '.']"
            ]
          },
          "metadata": {},
          "execution_count": 63
        }
      ]
    },
    {
      "cell_type": "code",
      "source": [
        "#Treebank Word Tokenizer for the NLTK package. Separates phrase-terminating punctutation from adjacent\n",
        "# tokens and retains decimal numbers containing a period as a single token\n",
        "from nltk.tokenize import TreebankWordTokenizer\n",
        "sentence = \"Monticello wasn't designated as UNCESCO World Heritage Site until 1987.\"\n",
        "tokenizer = TreebankWordTokenizer()\n",
        "tokenizer.tokenize(sentence)"
      ],
      "metadata": {
        "colab": {
          "base_uri": "https://localhost:8080/"
        },
        "id": "g0W9p8pbl2mc",
        "outputId": "f1748c2d-5820-4e9e-d3e1-a1910e45eb69"
      },
      "execution_count": 64,
      "outputs": [
        {
          "output_type": "execute_result",
          "data": {
            "text/plain": [
              "['Monticello',\n",
              " 'was',\n",
              " \"n't\",\n",
              " 'designated',\n",
              " 'as',\n",
              " 'UNCESCO',\n",
              " 'World',\n",
              " 'Heritage',\n",
              " 'Site',\n",
              " 'until',\n",
              " '1987',\n",
              " '.']"
            ]
          },
          "metadata": {},
          "execution_count": 64
        }
      ]
    },
    {
      "cell_type": "code",
      "source": [
        "#Extending Vocabularly with n-grams\n",
        "\n",
        "# 1gram tokenizer\n",
        "import re\n",
        "\n",
        "sentence = \"Thomas Jefferson began building Monticello at the age of 26.\"\n",
        "\n",
        "pattern = re.compile(r'([- \\s.,;!?])+')\n",
        "tokens = pattern.split(sentence)\n",
        "[x for x in tokens if x and x not in '- \\t\\n.,;!?']"
      ],
      "metadata": {
        "colab": {
          "base_uri": "https://localhost:8080/"
        },
        "id": "Hx97DUxJosC7",
        "outputId": "87e0d865-a5fb-4837-c350-93d174f5d748"
      },
      "execution_count": 84,
      "outputs": [
        {
          "output_type": "execute_result",
          "data": {
            "text/plain": [
              "['Thomas',\n",
              " 'Jefferson',\n",
              " 'began',\n",
              " 'building',\n",
              " 'Monticello',\n",
              " 'at',\n",
              " 'the',\n",
              " 'age',\n",
              " 'of',\n",
              " '26']"
            ]
          },
          "metadata": {},
          "execution_count": 84
        }
      ]
    },
    {
      "cell_type": "code",
      "source": [
        "#2gram tokenizer\n",
        "from nltk.util import ngrams\n",
        "list(ngrams(tokens, 2))"
      ],
      "metadata": {
        "colab": {
          "base_uri": "https://localhost:8080/"
        },
        "id": "9NOqKjFQqfno",
        "outputId": "0c25557a-089b-47aa-ea7b-5cdfa4d76886"
      },
      "execution_count": 85,
      "outputs": [
        {
          "output_type": "execute_result",
          "data": {
            "text/plain": [
              "[('Thomas', ' '),\n",
              " (' ', 'Jefferson'),\n",
              " ('Jefferson', ' '),\n",
              " (' ', 'began'),\n",
              " ('began', ' '),\n",
              " (' ', 'building'),\n",
              " ('building', ' '),\n",
              " (' ', 'Monticello'),\n",
              " ('Monticello', ' '),\n",
              " (' ', 'at'),\n",
              " ('at', ' '),\n",
              " (' ', 'the'),\n",
              " ('the', ' '),\n",
              " (' ', 'age'),\n",
              " ('age', ' '),\n",
              " (' ', 'of'),\n",
              " ('of', ' '),\n",
              " (' ', '26'),\n",
              " ('26', '.'),\n",
              " ('.', '')]"
            ]
          },
          "metadata": {},
          "execution_count": 85
        }
      ]
    },
    {
      "cell_type": "code",
      "source": [
        "list(ngrams(tokens, 3))"
      ],
      "metadata": {
        "colab": {
          "base_uri": "https://localhost:8080/"
        },
        "id": "5Scb2W9KqucF",
        "outputId": "33c9a03b-add4-458f-bd27-0dad73f63b0f"
      },
      "execution_count": 71,
      "outputs": [
        {
          "output_type": "execute_result",
          "data": {
            "text/plain": [
              "[('Thomas', ' ', 'Jefferson'),\n",
              " (' ', 'Jefferson', ' '),\n",
              " ('Jefferson', ' ', 'began'),\n",
              " (' ', 'began', ' '),\n",
              " ('began', ' ', 'building'),\n",
              " (' ', 'building', ' '),\n",
              " ('building', ' ', 'Monticello'),\n",
              " (' ', 'Monticello', ' '),\n",
              " ('Monticello', ' ', 'at'),\n",
              " (' ', 'at', ' '),\n",
              " ('at', ' ', 'the'),\n",
              " (' ', 'the', ' '),\n",
              " ('the', ' ', 'age'),\n",
              " (' ', 'age', ' '),\n",
              " ('age', ' ', 'of'),\n",
              " (' ', 'of', ' '),\n",
              " ('of', ' ', '26'),\n",
              " (' ', '26', '.'),\n",
              " ('26', '.', '')]"
            ]
          },
          "metadata": {},
          "execution_count": 71
        }
      ]
    },
    {
      "cell_type": "code",
      "source": [
        "two_grams = list(ngrams(tokens, 2))\n",
        "[\" \". join(x) for x in two_grams]"
      ],
      "metadata": {
        "colab": {
          "base_uri": "https://localhost:8080/"
        },
        "id": "0hWS1-2TrS-2",
        "outputId": "5e8b6fcd-00b2-4b0c-edc3-56068b07fe8d"
      },
      "execution_count": 87,
      "outputs": [
        {
          "output_type": "execute_result",
          "data": {
            "text/plain": [
              "['Thomas ',\n",
              " ' Jefferson',\n",
              " 'Jefferson ',\n",
              " ' began',\n",
              " 'began ',\n",
              " ' building',\n",
              " 'building ',\n",
              " ' Monticello',\n",
              " 'Monticello ',\n",
              " ' at',\n",
              " 'at ',\n",
              " ' the',\n",
              " 'the ',\n",
              " ' age',\n",
              " 'age ',\n",
              " ' of',\n",
              " 'of ',\n",
              " ' 26',\n",
              " '26.',\n",
              " '.']"
            ]
          },
          "metadata": {},
          "execution_count": 87
        }
      ]
    },
    {
      "cell_type": "code",
      "source": [
        "#NLTK List of Stopwords\n",
        "import nltk\n",
        "nltk.download('stopwords')\n",
        "stop_words = nltk.corpus.stopwords.words('english')\n",
        "len(stop_words)"
      ],
      "metadata": {
        "colab": {
          "base_uri": "https://localhost:8080/"
        },
        "id": "RVoDCezBt__q",
        "outputId": "961dfa77-b500-4b08-b0ea-be4d3cd2d9b5"
      },
      "execution_count": 88,
      "outputs": [
        {
          "output_type": "stream",
          "name": "stdout",
          "text": [
            "[nltk_data] Downloading package stopwords to /root/nltk_data...\n",
            "[nltk_data]   Unzipping corpora/stopwords.zip.\n"
          ]
        },
        {
          "output_type": "execute_result",
          "data": {
            "text/plain": [
              "179"
            ]
          },
          "metadata": {},
          "execution_count": 88
        }
      ]
    },
    {
      "cell_type": "code",
      "source": [
        "stop_words[:7]"
      ],
      "metadata": {
        "colab": {
          "base_uri": "https://localhost:8080/"
        },
        "id": "sln6_9vWuXXd",
        "outputId": "44b41268-329e-4e35-8178-19a8d7e6eb91"
      },
      "execution_count": 90,
      "outputs": [
        {
          "output_type": "execute_result",
          "data": {
            "text/plain": [
              "['i', 'me', 'my', 'myself', 'we', 'our', 'ours']"
            ]
          },
          "metadata": {},
          "execution_count": 90
        }
      ]
    },
    {
      "cell_type": "code",
      "source": [
        "[sw for sw in stop_words if len(sw) == 1]"
      ],
      "metadata": {
        "colab": {
          "base_uri": "https://localhost:8080/"
        },
        "id": "-QUECFKwuffN",
        "outputId": "51e5172b-5e68-4a3b-bb1e-d222476fec39"
      },
      "execution_count": 93,
      "outputs": [
        {
          "output_type": "execute_result",
          "data": {
            "text/plain": [
              "['i', 'a', 's', 't', 'd', 'm', 'o', 'y']"
            ]
          },
          "metadata": {},
          "execution_count": 93
        }
      ]
    },
    {
      "cell_type": "code",
      "source": [
        "from sklearn.feature_extraction.text import ENGLISH_STOP_WORDS as sklearn_stop_words\n",
        "len(sklearn_stop_words)"
      ],
      "metadata": {
        "colab": {
          "base_uri": "https://localhost:8080/"
        },
        "id": "WzThcJ-Iu7vV",
        "outputId": "97b3dbf2-9438-404b-fd71-f29a3df310f0"
      },
      "execution_count": 94,
      "outputs": [
        {
          "output_type": "execute_result",
          "data": {
            "text/plain": [
              "318"
            ]
          },
          "metadata": {},
          "execution_count": 94
        }
      ]
    },
    {
      "cell_type": "code",
      "source": [
        "#Case Folding\n",
        "tokens = ['House', ' Visitor', 'Centre']\n",
        "normalized_tokens = [x.lower() for x in tokens]\n",
        "print(normalized_tokens) "
      ],
      "metadata": {
        "colab": {
          "base_uri": "https://localhost:8080/"
        },
        "id": "Cj_66YxTvSF0",
        "outputId": "200a206f-b452-41eb-cb08-b601a6d67b3b"
      },
      "execution_count": 96,
      "outputs": [
        {
          "output_type": "stream",
          "name": "stdout",
          "text": [
            "['house', ' visitor', 'centre']\n"
          ]
        }
      ]
    },
    {
      "cell_type": "code",
      "source": [
        "#Stemming - remove small meaning differencens of pluralisation or possives endings of words, or even various verb forms e.g. \"house\" (singular), \"houses\" (plural)\n",
        "#Stemming can reduce precision score as it may return more irrelevant items along with the relevant ones, creating a higher false-positives rate\n",
        "def stem(phrase):\n",
        "  return ' '.join([re.findall('^(.*ss|.*?)(s)?$', word) [0][0].strip(\"'\") for word in phrase.lower().split()])\n",
        "stem('houses')"
      ],
      "metadata": {
        "colab": {
          "base_uri": "https://localhost:8080/",
          "height": 36
        },
        "id": "WEOots8JvxGm",
        "outputId": "b59d262c-83ed-40af-fb5d-1329253c935f"
      },
      "execution_count": 104,
      "outputs": [
        {
          "output_type": "execute_result",
          "data": {
            "text/plain": [
              "'house'"
            ],
            "application/vnd.google.colaboratory.intrinsic+json": {
              "type": "string"
            }
          },
          "metadata": {},
          "execution_count": 104
        }
      ]
    },
    {
      "cell_type": "code",
      "source": [
        "stem(\"Doctor House's calls\")"
      ],
      "metadata": {
        "colab": {
          "base_uri": "https://localhost:8080/",
          "height": 36
        },
        "id": "uhBoGHrbyZbq",
        "outputId": "9cadb041-be71-4c77-b938-da4069b5a82b"
      },
      "execution_count": 106,
      "outputs": [
        {
          "output_type": "execute_result",
          "data": {
            "text/plain": [
              "'doctor house call'"
            ],
            "application/vnd.google.colaboratory.intrinsic+json": {
              "type": "string"
            }
          },
          "metadata": {},
          "execution_count": 106
        }
      ]
    },
    {
      "cell_type": "code",
      "source": [
        "#Porter Stemmer\n",
        "from nltk.stem.porter import PorterStemmer\n",
        "stemmer = PorterStemmer()\n",
        "' '.join([stemmer.stem(w).strip(\"'\") for w in \"dish washer's washed dishes\".split()])' '.join() "
      ],
      "metadata": {
        "colab": {
          "base_uri": "https://localhost:8080/",
          "height": 36
        },
        "id": "LhbyusAdynA8",
        "outputId": "ed7b0283-2b7c-4f7c-b6d5-8b41e1b81f64"
      },
      "execution_count": 110,
      "outputs": [
        {
          "output_type": "execute_result",
          "data": {
            "text/plain": [
              "'dish washer wash dish'"
            ],
            "application/vnd.google.colaboratory.intrinsic+json": {
              "type": "string"
            }
          },
          "metadata": {},
          "execution_count": 110
        }
      ]
    },
    {
      "cell_type": "code",
      "source": [
        "from nltk.classify.rte_classify import lemmatize\n",
        "#Lemmatization - potentially more accurate way to normalise a word than stemming or case normalisation\n",
        "# it takes into account a word's meaning. A lemmatizer uses a knowledge of base word synonynms and word\n",
        "# endings to ensure that word that mean similar things are consolidated into a single token\n",
        " \n",
        "nltk.download('wordnet')\n",
        "from nltk.stem import WordNetLemmatizer"
      ],
      "metadata": {
        "colab": {
          "base_uri": "https://localhost:8080/",
          "height": 73
        },
        "id": "csiTZ-78zU4W",
        "outputId": "f18ccf99-ea7b-4ba6-aad4-b6070b525712"
      },
      "execution_count": 114,
      "outputs": [
        {
          "output_type": "stream",
          "name": "stdout",
          "text": [
            "[nltk_data] Downloading package wordnet to /root/nltk_data...\n",
            "[nltk_data]   Package wordnet is already up-to-date!\n"
          ]
        },
        {
          "output_type": "execute_result",
          "data": {
            "text/plain": [
              "'good'"
            ],
            "application/vnd.google.colaboratory.intrinsic+json": {
              "type": "string"
            }
          },
          "metadata": {},
          "execution_count": 114
        }
      ]
    },
    {
      "cell_type": "code",
      "source": [
        "lemmatizer = WordNetLemmatizer()\n",
        "lemmatizer.lemmatize(\"better\", pos=\"a\")"
      ],
      "metadata": {
        "colab": {
          "base_uri": "https://localhost:8080/",
          "height": 36
        },
        "id": "SbtU1csB0ugX",
        "outputId": "baa92836-9751-4266-b47a-8868820d926d"
      },
      "execution_count": 115,
      "outputs": [
        {
          "output_type": "execute_result",
          "data": {
            "text/plain": [
              "'good'"
            ],
            "application/vnd.google.colaboratory.intrinsic+json": {
              "type": "string"
            }
          },
          "metadata": {},
          "execution_count": 115
        }
      ]
    },
    {
      "cell_type": "code",
      "source": [
        "# Stemmers - faster to compute and require less-complex code and datasets. Can make more errors\n",
        "# Lemmatizer - do better job retaining as much of information content as possible nased on how the \n",
        "# word was used withing the test and its itended meaning. \n",
        "# If you can, avoid using stemming or lemmatization unless using limited text that has usages"
      ],
      "metadata": {
        "id": "ddyI0Dcm00c-"
      },
      "execution_count": null,
      "outputs": []
    }
  ]
}