{
  "nbformat": 4,
  "nbformat_minor": 0,
  "metadata": {
    "colab": {
      "name": "MSc_DTS_New_ML_Classifier_Model",
      "provenance": [],
      "collapsed_sections": [],
      "include_colab_link": true
    },
    "kernelspec": {
      "name": "python3",
      "display_name": "Python 3"
    }
  },
  "cells": [
    {
      "cell_type": "markdown",
      "metadata": {
        "id": "view-in-github",
        "colab_type": "text"
      },
      "source": [
        "<a href=\"https://colab.research.google.com/github/hblacksmith/Clustering/blob/main/MSc_DTS_New_ML_Classifier_Model.ipynb\" target=\"_parent\"><img src=\"https://colab.research.google.com/assets/colab-badge.svg\" alt=\"Open In Colab\"/></a>"
      ]
    },
    {
      "cell_type": "markdown",
      "metadata": {
        "id": "VwK5-9FIB-lu"
      },
      "source": [
        "# Natural Language Processing"
      ]
    },
    {
      "cell_type": "markdown",
      "metadata": {
        "id": "X1kiO9kACE6s"
      },
      "source": [
        "## Importing the libraries"
      ]
    },
    {
      "cell_type": "code",
      "metadata": {
        "id": "7QG7sxmoCIvN"
      },
      "source": [
        "import numpy as np\n",
        "import matplotlib.pyplot as plt\n",
        "import pandas as pd"
      ],
      "execution_count": 81,
      "outputs": []
    },
    {
      "cell_type": "markdown",
      "metadata": {
        "id": "wTfaCIzdCLPA"
      },
      "source": [
        "## Importing the dataset"
      ]
    },
    {
      "cell_type": "code",
      "metadata": {
        "id": "UCK6vQ5QCQJe"
      },
      "source": [
        "dataset = pd.read_csv('Restaurant_Reviews.tsv', delimiter = '\\t', quoting = 3)"
      ],
      "execution_count": 82,
      "outputs": []
    },
    {
      "cell_type": "markdown",
      "metadata": {
        "id": "Qekztq71CixT"
      },
      "source": [
        "## Cleaning the texts"
      ]
    },
    {
      "cell_type": "code",
      "metadata": {
        "id": "8u_yXh9dCmEE",
        "outputId": "e1f41843-dcc0-462c-d21f-2fe902ab4fe0",
        "colab": {
          "base_uri": "https://localhost:8080/"
        }
      },
      "source": [
        "import re\n",
        "import nltk\n",
        "nltk.download('stopwords')\n",
        "from nltk.corpus import stopwords\n",
        "from nltk.stem.porter import PorterStemmer\n",
        "corpus = []\n",
        "for i in range(0, 49):\n",
        "  review = re.sub('[^a-zA-Z]', ' ', dataset['Review'][i])\n",
        "  review = review.lower()\n",
        "  review = review.split()\n",
        "  ps = PorterStemmer()\n",
        "  all_stopwords = stopwords.words('english')\n",
        "  all_stopwords.remove('not')\n",
        "  review = [ps.stem(word) for word in review if not word in set(all_stopwords)]\n",
        "  review = ' '.join(review)\n",
        "  corpus.append(review)"
      ],
      "execution_count": 83,
      "outputs": [
        {
          "output_type": "stream",
          "name": "stdout",
          "text": [
            "[nltk_data] Downloading package stopwords to /root/nltk_data...\n",
            "[nltk_data]   Package stopwords is already up-to-date!\n"
          ]
        }
      ]
    },
    {
      "cell_type": "code",
      "metadata": {
        "id": "KpGWdrzGoAsL",
        "outputId": "00fd373f-f9ae-40da-af95-a015253ad84a",
        "colab": {
          "base_uri": "https://localhost:8080/"
        }
      },
      "source": [
        "print(corpus)"
      ],
      "execution_count": 84,
      "outputs": [
        {
          "output_type": "stream",
          "name": "stdout",
          "text": [
            "['raf cadet journey demonstr leadership took charg cadet activ collect money chariti supermarket help pack bag outset ensur cadet knew repres raf need full correct uniform look proud explain format day includ time made sure cadet awar behaviour need display made clear bad languag behaviour would toler saturday morn met cadet supermarket ask older cadet work newer cadet creat support buddi team morn quiet lunch time approach got busi call cadet short break explain idea chang lunch break slightli later us could collect money busi period group discuss idea agre take later break instruct anyon need take lunch could peopl might differ need diabet need eat throughout day regularli check team spoke cadet home time thank made sure everyon ok happi day went day success collect', 'work role half year lot experi knowledg role trust manag lead team throughout day alloc task new member join team train use equip carri differ job furthermor key holder one show new manag lock build teach lock everi fire exit minut job show reliabl trustworthi figur', 'drive team great confid help mind make team profici product posit attitud believ posit neg come find opportun go ahead hard work honesti achiev target brave work job right time right decis team leader supervis work work veloc make work progress chart indic work done time ensur encourag team finish schedul work job time maintain top qualiti', 'although not leadership posit abl involv decis focu use desir present best data drive depart forward get best qualiti hr payrol record possibl tri use experi input idea make process easier team creat report find gap inconsist exist data time manner also tri model behaviour would want other polit help resourc', 'work stanst airport special assist oper often work nineti unsoci plu hour per week overwhelm holiday felt respons servic provid compani whose uniform wore take pride work high mark univers time dedic volunt also indic ion thing get involv work custom end deliv servic abl listen alloc fellow pusher e push wheelchair stakehold throughout airport break enger flow alway endeavour engag co worker tri find go help way give advic fellow student boat look job appli degre whenev new agent start alway took initi show rope explain terminolog use effici commun shortcut avail staff open door whilst push wheelchair time gener cope fastpac environ moreov issu discrimin unaccept languag not toler thank not aris howev wit thing onlin environ contact relev administr', 'work data qualiti team undertook respons train new staff make understood procedur work style mentor team made plan action introduct topic work effect organis gather inform home offic tool manag intern extern stakehold whist work big network crash work lost due backup save could abl resolv back work use check team member work end shift use make amend need made extra local folder save work help manag creat lesson learn chart work creat best practic chart home offic tool help new joiner exist staff mitig mistak like guid tool staff approv manag conduct team meet explain tool best practic home offic staff help fellow colleagu sat cost submiss welcom queri team help depart run minimum staff tool run minimum error hard work enthusiasm award reward recognit', 'exampl follow coronaviru outbreak central govern impos certain measur upon employ employe discharg oblig despit difficult team conduct weekli team meet build spoke team member use element smart acronym action plan specif measur achiev relev time specif want team continu weekli team meet measur want everi team member attend team meet achiev want team start use technolog achiev relev want team continu share knowledg help job best abil time look rais line manag end year apprais end march import implement chang consid equal everi team member receiv equal opportun one discrimin divers inclus promot resist first among team member though took upon persuad team see benefit access work email not miss vital inform job best abil lastli effect commun manag mental health anxieti took opportun end year apprais propos idea line manag', 'strong commit confid leader understand import within role direct influenc other achiev nation object within civil servic previou role requir manag direct group within team peopl achiev challeng goal target recur basi initi join team concern lack motiv team member display start set concis team valu construct action plan well discuss perform group member design reach goal get team need although team member initi display reluct work toward chang implement persev influenc team believ chosen cours action right one reach long term goal group maintain compani core mission time ensur team member opportun express concern opinion often ask everyon opinion team could better forward achiev object involv group member action plan process valu view abl consist achiev object prais senior manag within corpor leader within civil servic constantli consist deliv object', 'work offic custom email team complain error found one compani newslett newslett creat period anoth depart within compani purpos gener new busi compani took look newslett shock number error contain within felt respons rais issu depart respons creation newslett could explor way could improv view newslett current format let busi spoke manag depart met immedi defens attitud howev persev outlin benefit strong newslett could bring compani also offer proofread newslett went would enabl suggest differ way could improv newslett use leverag new busi persever tact relationship build skill manag agre work improv newslett six month made contact newslett seen integr part busi respons help improv new product also offer incent discount loyal custom base', 'keen scuba diver qualifi becom ocean diver mean dive other gain qualif one lesson open water lead dive ensur teacher feel ok enough air follow set cours went lead anoth dive peopl club belong dive holiday lanzarot sight set becom dive leader time near futur', 'situat project manag q crimin court statist quarterli statist updat task ensur project stuck previous complet work plan creat initi work plan two colleagu team took leav threaten timescal project action arrang meet leader sister team crimin justic system statist manag get coupl member team help us quarterli updat whilst not impact work commit result q statist updat complet time complet high standard', 'lead project hr autonomi project liais number depart issu encount complic login process voic would creat much confus store may lead queri higher cost depart agre work simplifi done', 'join sport team univers moral low pessimist atmospher amongst group due sever factor one experienc member respons improv team outcom saw necessari alter team expect also chang attitud overal motiv order effect commun expect sat player watch clip previou year outlin posit trait action saw final discuss instanc perform may prevent team achiev previou target identifi video instanc occur prevent futur act give encourag display appreci aspect perform meant recept construct critic provid also made clear could hold account fail meet standard ask respons overwhelmingli posit not inspir greater confid team abil pathway provid regard achiev goal notic time spent player reinforc behaviour led great perform discourag behaviour potenti inhibit perform end year achiev team year', 'part resourc plan analyst experienc one team privileg take charg implement new wfm nice go train nice provid ask suitabl question help implement organis abl train peopl organis look bigger pictur day day use softwar well look differ featur abl get maximum use softwar improv day day benefit new system within week manag take train implement softwar accord need busi perform transit two system workforc manag lead train within organis', 'recent lead chariti event success rais throughout charg account contact compani fix date present idea deleg role process member group lost research final powerpoint day pitch school venu event time devast problem howev persist natur decid stay late school take respons leader accumul lost research creat powerpoint within deadlin work fast effici profession manag get group back track extra work put group show determin regardless tension extern pressur eventu pay everyth went plan rais highest amount borough exampl show leadership capabl alongsid abil work pace whilst commun team member lead group overal success', 'resili commit confid leader fulli comprehend requir within role guid influenc other achiev civil servic nation object goal exampl project manag team fellow artist achiev creat complex challeng project would showcas not understand topic collabor initi truli concern lack direct conflict within team set team valu project timelin action plan base team member strength weak held weekli review design help land team need place whilst issu surround artist authorship aros initi phase project alway made sure member equal say opportun project would play often ask opinion final decis made manag influenc team chosen plan action best interest would achiev goal project object involv team project execut process hold opinion experi highest regard manag achiev goal expect level standard promptli earn us prais teamwork acclaim project whole leader alway achiev goal deliv requir expect level qualiti', 'time sixth form school danc club decid join danc life complet ballet grade includ inter foundat grade due danc knowledg experi ask lead class event teacher unabl attend lead team regularli gave direct guidanc perform taught variou technic routin one year select mentor group coach choreograph routin compet local school area place london youth game entail lead danc group girl match dancer danc abil guid routin increas element difficulti mentor team first place win secur place london youth game took place copper box arena london huge accomplish team school teacher explain grate impress lead girl', 'respons run budget day market campaign organis meet tax market team brief line manag respons creat conting plan liais design make sure standbi layout approv collabor market team ensur understood happi respons day budget announc tax team draft articl howev mix banner social media post seem miscommun market team banner concept wrong colour scheme not match overal brand whist wait articl complianc check decid rectifi problem take lead role arrang meet market team decid make minor adjust banner work contrast design public market team felt better assist proof check articl send design result manag diffus conflict market team proactiv creat stronger relationship budget day public sent time everyon happi end result market team happi need consid receiv posit feedback line manag sinc resolv situat', 'part committe start first bengali societi univers vice presid respons includ creat meet agenda arrang committe meet book venu event manag societi email keep action log committe member event howev start small team constantli help team member input idea across committe role one main prioriti societi establish foundat follow year would vital toward sustain grow societi made sure team member work togeth event regularli promot across social media page set societi order maintain current societi member also recruit new one import task number member societi made massiv impact whether societi would continu consecut year furthermor enough member interest societi vital keep engag event done ensur brought lot energi interact element event game challeng overal would say extrem success build societi abl set strong foundat follow year seen societi sinc doubl member', 'last job sale associ larg compani compani overal sale number previou quarter manag ask sale associ suggest possibl method improv sale gave brief present solut creat involv chang sale train method manag like suggest put charg task forc implement solut led team six develop implement new train method', 'work censu team leader motiv manag censu offic task encourag peopl assign area complet censu onlin questionnair achiev respons rate within four week analys review area alloc rank order difficulti respons rate commun inform team weekli basi use powerpoint present regular team meet also identifi strongest offic persuas team alloc offic area difficult get respons motiv team daili basi maintain effect relationship everi offic ensur perform best abil abl steer team leadership get record break respons rate assign area respons rate assign area end oper set target area manag pleas outcom area offic happi', 'competit rugbi sport taught import teamwork structur partit respons function play rugbi lead posit allow develop propens toward inclus fair thu awar regard import team member divers qualiti central success moreov believ share ion trust support attitud key success effici collect therefor role leader provid team way convey energi common object valu signific occas abl transfer leadership abil attitud semest long simul negoti project due proactiv person took leadership role preliminari meet set deadlin research differ area discuss gener object pursu time deadlin group met accord team propos network organis member would research negoti actor interest group utilis project platform share inform commun team would meet weekli discuss adjust negoti strategi accord new inform gather group extrem involv result success achiev highest mark class', 'work year abl work number store depart meant expos differ way store tackl task upon start new store notic larg amount product end damag left warehous expir recognis issu result shelv fill time shelf fill new box open instead finish one alreadi open loos item often forgotten use initi start method would help prevent product becom damag use crate store product space left shelf place end aisl warehous ask manag get staff fill use crate open new box encourag colleagu explain reason also commun way knew would reson exampl mention annoy box fall creat would prevent happen receiv posit respons manag colleagu happi use new method prevent product damag', 'situat manag work week told lead project request done week urgent task keep everyth right track absenc action hold meet team mate ask view opinion well present list work done assign choic interest result collect contribut team abl lead project effect', 'time barclay involv project base america follow dodd frank regulatori act larg number report requir present regul one provid peopl risk key indic report america line new structur report model base compani code employe map role lead peopl risk key indic report requir fit purpos time manner set regular meet keep mind time differ commun person virtual data owner receiv progress updat map work initi map work complet variou team abl report base new model america request data team produc sampl peopl risk report show accur report ensur met requir regul attend weekli meet project lead manag provid progress updat discuss obstacl concern process result abl deliv peopl risk key indic regul line project deadlin without error unexpect expect data owner', 'work current role need lead team peopl get activ event happen well leadership need clear commun allow everyon understand plan need done make sure inform team week ahead plan weekend lesson give time ask question prepar along side meet session run answer question may not natur leader found clear peopl understand give chanc understand view key help success teamwork role manag conflict peopl view differenti give space explain make clear decis inform given explain decis made allow understand find leader not loudest voic room abl bring peopl togeth get need done done', 'start work adelaid medic centr agenc work team decid contract covid sinc march continu chang improv process adjust new regul not simpl transform staff patient collect manag patient expect pressur meet demand understand patient tough situat need guidanc com ion ever maintain patient care high standard manag complaint start attend daili meet specif focu patient behaviour area forese tackl becom issu address incid occur discuss verbal abus recept face sinc appoint telephon admin covid relat queri may aris allow us come clear conclus decis implement meet also collect way celebr mileston discuss annual leav work togeth take holiday make sure not cover absenc proactiv ensur neg impact rest team led inclus work place awar issu face deal patient misconduct member staff everyon heard prep face situat face', 'identifi opportun take lead develop new programm would simplifi deliv stress test data client use key element origin deliveri done via code system analys code function work file key code programm run whilst code good intric complex process often prone error one point team member could run creat send final output client creat new programm would simplifi process would make access member team abl use take lead set frequent meet discuss brainstorm idea produc best outcom welcom idea put forward work team iron kink although took lead promot develop new programm ensur effort other recognis deliv final output manag alway ensur whose idea improv function programm abl demonstr work got recognit deserv outcom programm play integr role deliv stress test data client manag member team use', 'often person respons train new starter team mean figur adapt peopl take account uniqu learn style person person prior knowledg come realli use team larg see part role find skill ensur feel integr within team', 'work group peopl build websit work still built strong leadership skill time busi fail nearli everyon group lost moral remind everyon reason start commit set principl agre upon never give remind everyon seem jolt face brighten final found long lost motiv person tri sort problem analys best data tri amplifi best part order make ad sooner later sale start roll think never give magic phrase work could phrase one magic factor made work fact everi person busi involv particip make principl fact involv creat feel sens connect make much harder break coven commit not random principl one everyon us particip creat make much harder break', 'manag team look team made dynam person sometim employ peopl experi hardship stress low moral root caus could anyth one staff member continu break complianc polici result financi loss first instanc address error tri workout skill issu issu occas issu gave agent enough time rectifi error continu sit inform convers express concern listen concern ask team could ask commit agent make sure understood action next make sure achiev within skill agent agent understood financi loss put compani help team member understood mistak happi rectifi problem', 'law firm work small firm time firm main receptionist left director decid not replac cut cost time work main offic place rota three employe cover main receptionist duti previou experi job start firm role take respons without reduct workload main role not pleas situat previous spent time job look progress fellow employe believ felt way nevertheless perform role without complaint continu complet duti normal often multitask requir order achiev rota poorli manag often peopl would not abl cover time variou reason howev whether quota cover fellow employe believ job profession right attitud also took time help new employe not familiar busi feel overwhelm', 'undertak master degre often requir complet group assign would involv strong emphasi work effect team one occas group task project requir wide rang differ skillset includ amongst thing letter write code data analysi overal project plan design group leader immedi broke project variou skill alloc amongst group base perceiv skill team member sub team immedi start work task individu howev quickli realis littl cohes group opportun miss improv qualiti overal submiss mind suggest chang strategi believ would benefici team whole improv commun individu sub group idea receiv extrem well multipl member group admit struggl complet work high standard without feedback commun group whole agre hold regular catch session whole team well individu sub group would benefit kept date statu variou task result extrem posit receiv high grade submiss particular prais teamwork overal cohes project', 'work gregg respons train new staff step manag not senior manag left could especi challeng staff member felt less motiv took addit time everi individu work check frequent person level see ok help build moral creat better comfort environ staff member ad custom servic', 'leadership import skill tri hard learn work hobbi mainli abl learn leadership skill footbal coach everi sunday morn year footbal player coach realli help leadership get understand peopl react best work well', 'new secur offic join work order keep store safe deter shoplift task posit everi one shop floor notifi everyon area store vulner shoplift commun everyon shift took mani step order make sure three secur offic best posit act shoplift disput constantli commun everyon give hint pattern shoplift normal take result abl deter coupl shoplift shoplift also abl keep everyon safe', 'one longest work part time employe previou job event venu often put charg team time could mani us age vari fast pace environ often challeng make sure everyth run smoothli differ area venu howev deleg task accord capabl ensur team work implement complaint unusu often receiv glow feedback work earn rise star award along one colleagu also experi work school rang age group well assist teacher lesson supervis pupil lunchtim chaperon depart trip develop leadership capabl time secondari school also complet duke edinburgh award design team leader expedit respons food suppli camp walk gear direct team moral second team finish expedit one memor weekend date final part girl guid begin guid progress posit young leader although role not qualifi first experi lead group teach decis make mentor effect', 'third year univers chosen captain women squash team respons team welfar match plan regularli liais univers buc repres club presid prepar travel strategi plan concern upcom match addit encourag member mostli new player enjoy match not focu heavili competit use view leagu competit extra train help grow understand sport creat atmospher member not afraid make mistak enjoy particip game got connect player share experi sport', 'master assign mini project team bit nervou discuss start divid work took initi respons complet project finish time got appreci professor', 'begin final year group project univers mani team unfamiliar collabor group rel weak member contribut littl group decis discuss identifi rais concern rest group suggest implement thorough project manag plan addit learn previou year group project understood import feel includ within group dynam encourag quieter member contribut identifi interest talent differ task could assign suitabl team member help restructur group took respons project manag creat project manag tool gantt chart creat structur sharepoint trello board group member could easili updat work see group progress ensur team member ownership specif task clear understand role within group vital achiev smooth run project allow effect collabor group set deadlin task give project structur prove success group award best design academ staff final present', 'leadership not deleg task tell peopl abl guid take along team whether outcom situat posit neg also abl lead exampl act role model volunt local commun organis activ young children organis engag activ young children plan educ motiv day help open need abl good role model ensur set good exampl', 'program year throughout academ career introduct comput first logic spreadsheet progress onto learn first program languag call scratch sinc alway intrigu understand function hardwar softwar compon due desir academ success chosen prefect leader engrain strong leadership skill gave opportun contribut problem solv support colleagu volunt project manag group project univers respons lead team organis meet assign task agre deadlin project adopt agil approach help increment iter develop applic agil approach enabl project focu busi need demonstr control deliv qualiti product time project equip experi use agil young age involv voluntari work local church perform pianist lead singer band help prove leadership skill teamwork achiev success', 'one main respons previou role ensur monthli data relat benefit paid employe date charg accordingli whilst feed back relev inform third parti inform store share drive not team access short start new financi year discov lot inform receiv overlap other inform store differ place present risk data breach difficulti could incur case audit took lead call team meet order address issu team unawar happen person involv use time construct inform team could streamlin inform creat new system would allow team leav note timestamp time seen alter inform chosen person took time train employe troubl maintain system offer act mentor issu chang well receiv team adapt use hr depart allow everyon keep much closer eye chang inform ultim boost effici monthli report', 'effect abl lead team regardless size team initi lockdown influx shopper due panic buy also mean colleagu need ensur avail high particular occas colleagu sole manag till even cage deliveri sit warehous abl effect deleg task colleagu base strength whilst work deliveri ensur regular close procedur abl carri uninterrupt', 'work british airway new board process softwar introduc known amadeu jfe quit challeng complic begin train new softwar still mani colleagu use find difficult navig took train serious begin learnt almost aspect detail possibl knew embrac new chang altern special come learn new skill base intern survey turn almost employe still find softwar difficult use meantim focus use softwar board process check could learn function quicker other took opportun develop ahead other meantim manag look colleagu alreadi manag learn softwar adequ util colleagu expertis retrain rest colleagu still struggl softwar volunt opportun assign three week retrain part colleagu time taken daili routin job role made sme subject matter expert focu train fellow colleagu manag retrain colleagu onto softwar develop skill optim level achiev goal', 'put forward enrol onto siemen supervisor develop programm consist modul coach peopl manag present financ realis leadership skill could strengthen follow whilst placement digit team opt put skill use lead implement agil method within sub team graduat apprentic act scrum master schedul kick event explain concept agil work differ role event outcom sprint cycl team subsequ organis lead initi sprint plan session set daili stand meet team would discuss progress rais attent blocker time stand meet becam increasingli autonom team led necessari would facilit collabor intern extern team member overcom blocker team respond well agil style lead back achiev much transpar collabor way work practic laid still use today person success provid extern valid abil lead project effect welcom futur opportun develop skill leadership see skill continu develop throughout entireti profession career', 'help organis puzzl hunt lead factcheck team hunt enter stage factcheck becom import organis rest team group order make sure check done effect tackl question system place mean effici robust system carri forward later instanc', 'start heard news local counti council offer busi grant help small busi buy capit equip help grow recov impact covid discuss boss grant could use research whether busi would qualifi gather list inform would requir alloc task colleagu contact rang supplier quot gather inform account yearli profit total appli grant use inform applic success', 'key respons store manag smooth run oper aspect store expect big deliveri depot prepar easter rel smaller team five staff oper peak season knew would busi proactiv plan day invit whole team discuss task ahead us manag program came handi appli team work leadership strategi includ brainstorm discuss open suggest allow everyon feel part decis make process approach made team feel valu happi lead respect task assign put timet togeth line health safeti regul organis break time reassign role two staff oper deliveri checkout given time show leadership pair fifth staff ensur shop floor fulli stock effici upon stock deliveri result team manag run smoothli day issu report shop floor fulli top warehous well organis manag inspect store incred happi result profit extrem proud team treat doughnut built good work relationship team abl deliv similar good result go forward']\n"
          ]
        }
      ]
    },
    {
      "cell_type": "markdown",
      "metadata": {
        "id": "CLqmAkANCp1-"
      },
      "source": [
        "## Creating the Bag of Words model"
      ]
    },
    {
      "cell_type": "code",
      "metadata": {
        "id": "qroF7XcSCvY3"
      },
      "source": [
        "from sklearn.feature_extraction.text import TfidfVectorizer\n",
        "cv = TfidfVectorizer(max_features = 1500)\n",
        "X = cv.fit_transform(corpus).toarray()\n",
        "y = dataset.iloc[:, -1].values"
      ],
      "execution_count": 85,
      "outputs": []
    },
    {
      "cell_type": "markdown",
      "metadata": {
        "id": "DH_VjgPzC2cd"
      },
      "source": [
        "## Splitting the dataset into the Training set and Test set"
      ]
    },
    {
      "cell_type": "code",
      "metadata": {
        "id": "qQXYM5VzDDDI"
      },
      "source": [
        "from sklearn.model_selection import train_test_split\n",
        "X_train, X_test, y_train, y_test = train_test_split(X, y, test_size = 0.25, random_state = 0)"
      ],
      "execution_count": 86,
      "outputs": []
    },
    {
      "cell_type": "markdown",
      "metadata": {
        "id": "VkIq23vEDIPt"
      },
      "source": [
        "## Training the Naive Bayes model on the Training set"
      ]
    },
    {
      "cell_type": "code",
      "metadata": {
        "id": "DS9oiDXXDRdI",
        "outputId": "72cb0763-a1c8-40ae-b3bd-cc5d9d7af34c",
        "colab": {
          "base_uri": "https://localhost:8080/"
        }
      },
      "source": [
        "from sklearn.naive_bayes import GaussianNB\n",
        "classifier = GaussianNB()\n",
        "classifier.fit(X_train, y_train)"
      ],
      "execution_count": 87,
      "outputs": [
        {
          "output_type": "execute_result",
          "data": {
            "text/plain": [
              "GaussianNB()"
            ]
          },
          "metadata": {},
          "execution_count": 87
        }
      ]
    },
    {
      "cell_type": "markdown",
      "metadata": {
        "id": "1JaRM7zXDWUy"
      },
      "source": [
        "## Predicting the Test set results"
      ]
    },
    {
      "cell_type": "code",
      "metadata": {
        "id": "Iif0CVhFDaMp",
        "outputId": "16ce3e54-e836-48fc-e17c-4503895bafc1",
        "colab": {
          "base_uri": "https://localhost:8080/"
        }
      },
      "source": [
        "y_pred = classifier.predict(X_test)\n",
        "print(np.concatenate((y_pred.reshape(len(y_pred),1), y_test.reshape(len(y_test),1)),1))"
      ],
      "execution_count": 88,
      "outputs": [
        {
          "output_type": "stream",
          "name": "stdout",
          "text": [
            "[[0 0]\n",
            " [0 0]\n",
            " [0 0]\n",
            " [0 0]\n",
            " [0 0]\n",
            " [0 1]\n",
            " [0 0]\n",
            " [0 0]\n",
            " [1 1]\n",
            " [0 0]\n",
            " [0 0]\n",
            " [0 0]\n",
            " [0 0]]\n"
          ]
        }
      ]
    },
    {
      "cell_type": "markdown",
      "metadata": {
        "id": "xoMltea5Dir1"
      },
      "source": [
        "## Making the Confusion Matrix"
      ]
    },
    {
      "cell_type": "code",
      "metadata": {
        "id": "Xj9IU6MxDnvo",
        "outputId": "b62c2f96-27eb-40f6-a8c1-e93ee283f1bc",
        "colab": {
          "base_uri": "https://localhost:8080/"
        }
      },
      "source": [
        "from sklearn.metrics import confusion_matrix, accuracy_score\n",
        "cm = confusion_matrix(y_test, y_pred)\n",
        "print(cm)\n",
        "accuracy_score(y_test, y_pred)"
      ],
      "execution_count": 89,
      "outputs": [
        {
          "output_type": "stream",
          "name": "stdout",
          "text": [
            "[[11  0]\n",
            " [ 1  1]]\n"
          ]
        },
        {
          "output_type": "execute_result",
          "data": {
            "text/plain": [
              "0.9230769230769231"
            ]
          },
          "metadata": {},
          "execution_count": 89
        }
      ]
    },
    {
      "cell_type": "code",
      "metadata": {
        "id": "to1ulY294zZv",
        "outputId": "f352c8e8-dc5d-4f5e-f048-ff3d873f9fce",
        "colab": {
          "base_uri": "https://localhost:8080/"
        }
      },
      "source": [
        "print(X_test)"
      ],
      "execution_count": 90,
      "outputs": [
        {
          "output_type": "stream",
          "name": "stdout",
          "text": [
            "[[0.         0.         0.         ... 0.         0.         0.        ]\n",
            " [0.         0.04664339 0.         ... 0.         0.         0.        ]\n",
            " [0.         0.         0.07860934 ... 0.         0.         0.        ]\n",
            " ...\n",
            " [0.         0.         0.         ... 0.         0.         0.        ]\n",
            " [0.         0.04328291 0.         ... 0.         0.         0.        ]\n",
            " [0.         0.         0.         ... 0.         0.         0.        ]]\n"
          ]
        }
      ]
    },
    {
      "cell_type": "markdown",
      "metadata": {
        "id": "NZcOJH_x9GSV"
      },
      "source": [
        "## Predicting if a single review is positive or negative"
      ]
    },
    {
      "cell_type": "markdown",
      "metadata": {
        "id": "4CiVD7lB-G4E"
      },
      "source": [
        "### Positive review"
      ]
    },
    {
      "cell_type": "code",
      "metadata": {
        "id": "4-jZEzWD49su",
        "outputId": "fbee1abd-1a22-4106-faa5-042be826d070",
        "colab": {
          "base_uri": "https://localhost:8080/"
        }
      },
      "source": [
        "new_review = \"Recently I lead a charity event which successfully raised £3000.Throughout this I was in charge of all the accounts, contacting companies, fixing dates, presenting ideas, delegating roles. During this process a member of our group lost the research and final PowerPoint a few days before the pitch to our school and to the venue for the event which at the time was a devastating problem. However because of my persistent nature I decided to stay late after school and take responsibility as a leader to accumulate the lost research and create a PowerPoint within the deadline. I worked fast, efficiently and professionally and managed to get our group back on track. The extra work I put in for our group showed how determined I was regardless of tensions and external pressures which eventually did pay of as everything went as planned and we raised the highest amount in the borough. This example shows my leadership capabilities alongside my ability to work at pace whilst communicating with my team members and leading the group to an overall success.\"\n",
        "new_review = re.sub('[^a-zA-Z]', ' ', new_review)\n",
        "new_review = new_review.lower()\n",
        "new_review = new_review.split()\n",
        "ps = PorterStemmer()\n",
        "all_stopwords = stopwords.words('english')\n",
        "all_stopwords.remove('not')\n",
        "new_review = [ps.stem(word) for word in new_review if not word in set(all_stopwords)]\n",
        "new_review = ' '.join(new_review)\n",
        "new_corpus = [new_review]\n",
        "new_X_test = cv.transform(new_corpus).toarray()\n",
        "new_y_pred = classifier.predict(new_X_test)\n",
        "print(new_y_pred)"
      ],
      "execution_count": 91,
      "outputs": [
        {
          "output_type": "stream",
          "name": "stdout",
          "text": [
            "[1]\n"
          ]
        }
      ]
    },
    {
      "cell_type": "markdown",
      "metadata": {
        "id": "Rkorcoxm93kP"
      },
      "source": [
        "The review was correctly predicted as positive by our model."
      ]
    },
    {
      "cell_type": "markdown",
      "metadata": {
        "id": "9qztXT-i-K1j"
      },
      "source": [
        "### Negative review"
      ]
    },
    {
      "cell_type": "markdown",
      "metadata": {
        "id": "X1DsvzmVE9EK"
      },
      "source": [
        "**Solution:** We just repeat the same text preprocessing process we did before, but this time with a single review."
      ]
    },
    {
      "cell_type": "code",
      "metadata": {
        "id": "ySAblyR98J2s",
        "outputId": "3a237d6e-11a3-4679-b8c0-c561ee4c315f",
        "colab": {
          "base_uri": "https://localhost:8080/"
        }
      },
      "source": [
        "new_review = \"I was responsible for running the Budget Day marketing campaign. I organised meetings with the tax and marketing teams. I was briefed by my line manager on my responsibilities and created a contingency plan. I had liaised with the designers to make sure they were on standby and the layout was approved. I collaborated with the marketing team to ensure they understood and were happy with their responsibilities. During the day, the budget was announced and the tax team were drafting their articles. However, there was a mix up with the banners for our social media posts. It seemed there was miscommunication with the marketing team. The banner concept was wrong and the colour scheme did not match the overall branding. Whist waiting for the articles from compliance check, I decided to rectify the problem by taking a leading role and arranged a meeting with the marketing team. We decided to make some minor adjustments to the banner which worked with contrast to the design of the publication. The marketing team felt better and they assisted me with proof checking the articles before sending to the designers. As a result, I managed to diffuse the conflict with the marketing team and I proactively created a stronger relationship with them. The budget day publication was sent out on time and everyone was happy with the end result. The marketing team were happy that their needs were considered and I received positive feedback from my line manager since I resolved the situation.\"\n",
        "\n",
        "new_review = re.sub('[^a-zA-Z]', ' ', new_review)\n",
        "new_review = new_review.lower()\n",
        "new_review = new_review.split()\n",
        "ps = PorterStemmer()\n",
        "all_stopwords = stopwords.words('english')\n",
        "all_stopwords.remove('not')\n",
        "new_review = [ps.stem(word) for word in new_review if not word in set(all_stopwords)]\n",
        "new_review = ' '.join(new_review)\n",
        "new_corpus = [new_review]\n",
        "new_X_test = cv.transform(new_corpus).toarray()\n",
        "new_y_pred = classifier.predict(new_X_test)\n",
        "print(new_y_pred)"
      ],
      "execution_count": 92,
      "outputs": [
        {
          "output_type": "stream",
          "name": "stdout",
          "text": [
            "[0]\n"
          ]
        }
      ]
    },
    {
      "cell_type": "markdown",
      "metadata": {
        "id": "d72teliY-PUQ"
      },
      "source": [
        "The review was correctly predicted as negative by our model."
      ]
    }
  ]
}